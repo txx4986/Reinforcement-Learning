{
 "cells": [
  {
   "cell_type": "markdown",
   "metadata": {},
   "source": [
    "# Collector\n",
    "## Overview\n",
    "From its literal meaning, we can easily know that the Collector in Tianshou is used to collect training data. More specifically, the Collector controls the interaction between Policy (agent) and the environment. It also helps save the interaction data into the ReplayBuffer and returns episode statistics.\n",
    "\n",
    "## Usages\n",
    "### Policy evaluation\n",
    "We need to evaluate our trained policy from time to time in DRL experiments. Collector can help us with this.\n",
    "\n",
    "First we have to initialise a Collector with an (vectorised) environment and a gieven policy (agent)."
   ]
  },
  {
   "cell_type": "code",
   "execution_count": 2,
   "metadata": {},
   "outputs": [],
   "source": [
    "import gymnasium as gym\n",
    "import numpy as np\n",
    "import torch\n",
    "\n",
    "from tianshou.data import Collector\n",
    "from tianshou.env import DummyVectorEnv\n",
    "from tianshou.policy import PGPolicy\n",
    "from tianshou.utils.net.common import Net\n",
    "from tianshou.utils.net.discrete import Actor\n",
    "\n",
    "import warnings\n",
    "warnings.filterwarnings(\"ignore\")\n",
    "\n",
    "env = gym.make(\"CartPole-v0\")\n",
    "test_envs = DummyVectorEnv([lambda: gym.make(\"CartPole-v0\") for _ in range(2)])\n",
    "\n",
    "# model\n",
    "net = Net(env.observation_space.shape, hidden_sizes=[16,])\n",
    "actor = Actor(net, env.action_space.shape)\n",
    "optim = torch.optim.Adam(actor.parameters(), lr=0.0003)\n",
    "\n",
    "policy = PGPolicy(actor, optim, dist_fn=torch.distributions.Categorical)\n",
    "test_collector = Collector(policy, test_envs)"
   ]
  },
  {
   "cell_type": "markdown",
   "metadata": {},
   "source": [
    "Now we would like to collect 9 episodes of data to test how our initialised Policy performs."
   ]
  },
  {
   "cell_type": "code",
   "execution_count": 3,
   "metadata": {},
   "outputs": [
    {
     "name": "stdout",
     "output_type": "stream",
     "text": [
      "{'n/ep': 9, 'n/st': 85, 'rews': array([ 9., 10.,  9., 10., 10.,  9.,  8., 10., 10.]), 'lens': array([ 9, 10,  9, 10, 10,  9,  8, 10, 10]), 'idxs': array([0, 1, 0, 1, 0, 1, 1, 0, 1]), 'rew': 9.444444444444445, 'len': 9.444444444444445, 'rew_std': 0.6849348892187751, 'len_std': 0.6849348892187751}\n",
      "Rewards of 9 episodes are [ 9. 10.  9. 10. 10.  9.  8. 10. 10.]\n",
      "Avergae episode reward is 9.444444444444445\n",
      "Average episode length is 9.444444444444445\n"
     ]
    }
   ],
   "source": [
    "collect_result = test_collector.collect(n_episode=9)\n",
    "print(collect_result)\n",
    "print(\"Rewards of 9 episodes are {}\".format(collect_result[\"rews\"]))\n",
    "print(\"Avergae episode reward is {}\".format(collect_result[\"rew\"]))\n",
    "print(\"Average episode length is {}\".format(collect_result[\"len\"]))"
   ]
  },
  {
   "cell_type": "markdown",
   "metadata": {},
   "source": [
    "Now we wonder what is the performance of a random policy."
   ]
  },
  {
   "cell_type": "code",
   "execution_count": 4,
   "metadata": {},
   "outputs": [
    {
     "name": "stdout",
     "output_type": "stream",
     "text": [
      "{'n/ep': 9, 'n/st': 240, 'rews': array([19., 52., 15., 16., 64., 16., 22., 10., 26.]), 'lens': array([19, 52, 15, 16, 64, 16, 22, 10, 26]), 'idxs': array([1, 0, 0, 0, 1, 1, 0, 0, 1]), 'rew': 26.666666666666668, 'len': 26.666666666666668, 'rew_std': 17.505554674001175, 'len_std': 17.505554674001175}\n",
      "Rewards of 9 episodes are [19. 52. 15. 16. 64. 16. 22. 10. 26.]\n",
      "Avergae episode reward is 26.666666666666668\n",
      "Average episode length is 26.666666666666668\n"
     ]
    }
   ],
   "source": [
    "# reset the collector\n",
    "test_collector.reset()\n",
    "collect_result = test_collector.collect(n_episode=9, random=True)\n",
    "print(collect_result)\n",
    "print(\"Rewards of 9 episodes are {}\".format(collect_result[\"rews\"]))\n",
    "print(\"Avergae episode reward is {}\".format(collect_result[\"rew\"]))\n",
    "print(\"Average episode length is {}\".format(collect_result[\"len\"]))"
   ]
  },
  {
   "cell_type": "markdown",
   "metadata": {},
   "source": [
    "Seems that an initialised policy performs even worse than a random policy without any training.\n",
    "\n",
    "### Data Collecting\n",
    "Data collecting is mostly used during training, when we need to store the collected data in a ReplayBuffer."
   ]
  },
  {
   "cell_type": "code",
   "execution_count": 5,
   "metadata": {},
   "outputs": [],
   "source": [
    "from tianshou.data import VectorReplayBuffer\n",
    "train_env_num = 4\n",
    "buffer_size = 100\n",
    "train_envs = DummyVectorEnv([lambda: gym.make(\"CartPole-v0\") for _ in range(train_env_num)])\n",
    "replaybuffer = VectorReplayBuffer(buffer_size, train_env_num)\n",
    "\n",
    "train_collector = Collector(policy, train_envs, replaybuffer)"
   ]
  },
  {
   "cell_type": "markdown",
   "metadata": {},
   "source": [
    "Now we can collect 50 steps of data, which will be automatically saved in the replay buffer. You can still choose to collect a certain number of episodes rather than steps."
   ]
  },
  {
   "cell_type": "code",
   "execution_count": 6,
   "metadata": {},
   "outputs": [
    {
     "name": "stdout",
     "output_type": "stream",
     "text": [
      "0\n",
      "52\n",
      "{'n/ep': 4, 'n/st': 52, 'rews': array([ 9.,  9., 10., 10.]), 'lens': array([ 9,  9, 10, 10]), 'idxs': array([25, 75,  0, 50]), 'rew': 9.5, 'len': 9.5, 'rew_std': 0.5, 'len_std': 0.5}\n"
     ]
    }
   ],
   "source": [
    "print(len(replaybuffer))\n",
    "collect_result = train_collector.collect(n_step=50)\n",
    "print(len(replaybuffer))\n",
    "print(collect_result)"
   ]
  },
  {
   "cell_type": "code",
   "execution_count": 7,
   "metadata": {},
   "outputs": [
    {
     "name": "stdout",
     "output_type": "stream",
     "text": [
      "0 1\n",
      "1 2\n",
      "2 3\n",
      "3 4\n",
      "4 5\n",
      "5 6\n",
      "6 7\n",
      "7 8\n",
      "8 9\n",
      "9 9\n",
      "10 11\n",
      "11 12\n",
      "12 12\n"
     ]
    }
   ],
   "source": [
    "for i in range(13):\n",
    "    print(i, replaybuffer.next(i))"
   ]
  },
  {
   "cell_type": "code",
   "execution_count": 8,
   "metadata": {},
   "outputs": [
    {
     "data": {
      "text/plain": [
       "(Batch(\n",
       "     obs: array([[-1.30994722e-01, -1.58440459e+00,  1.12622060e-01,\n",
       "                   2.28949118e+00],\n",
       "                 [-1.03222884e-01, -1.38859224e+00,  7.31204748e-02,\n",
       "                   1.97507930e+00],\n",
       "                 [-2.84368210e-02, -5.57652116e-01,  4.86735404e-02,\n",
       "                   8.95394683e-01],\n",
       "                 [-4.29266058e-02, -3.74700904e-01,  5.52442893e-02,\n",
       "                   6.50565684e-01],\n",
       "                 [-4.97634150e-02, -1.19769776e+00,  5.74298427e-02,\n",
       "                   1.76256251e+00],\n",
       "                 [ 1.20251626e-02, -2.80111413e-02, -3.13451886e-02,\n",
       "                   2.80445516e-02],\n",
       "                 [-1.33525860e-03, -6.12109601e-01, -1.27009312e-02,\n",
       "                   8.78336012e-01],\n",
       "                 [-2.97185834e-02, -1.00224161e+00,  2.82057710e-02,\n",
       "                   1.46120358e+00],\n",
       "                 [-1.49752086e-04,  7.96206202e-03,  1.99923012e-02,\n",
       "                  -1.91794746e-02],\n",
       "                 [ 9.48915476e-06, -1.87440813e-01,  1.96087118e-02,\n",
       "                   2.79743612e-01]], dtype=float32),\n",
       "     act: array([0, 0, 0, 0, 0, 0, 0, 0, 0, 0]),\n",
       "     rew: array([1., 1., 1., 1., 1., 1., 1., 1., 1., 1.]),\n",
       "     terminated: array([False, False, False, False, False, False, False, False, False,\n",
       "                        False]),\n",
       "     truncated: array([False, False, False, False, False, False, False, False, False,\n",
       "                       False]),\n",
       "     done: array([False, False, False, False, False, False, False, False, False,\n",
       "                  False]),\n",
       "     obs_next: array([[-1.6268282e-01, -1.7803723e+00,  1.5841188e-01,  2.6146214e+00],\n",
       "                      [-1.3099472e-01, -1.5844046e+00,  1.1262206e-01,  2.2894912e+00],\n",
       "                      [-3.9589863e-02, -7.5339907e-01,  6.6581436e-02,  1.2029717e+00],\n",
       "                      [-5.0420623e-02, -5.7054704e-01,  6.8255603e-02,  9.6012026e-01],\n",
       "                      [-7.3717371e-02, -1.3934203e+00,  9.2681095e-02,  2.0725374e+00],\n",
       "                      [ 1.1464939e-02, -2.2266988e-01, -3.0784296e-02,  3.1067526e-01],\n",
       "                      [-1.3577450e-02, -8.0705667e-01,  4.8657893e-03,  1.1669991e+00],\n",
       "                      [-4.9763415e-02, -1.1976978e+00,  5.7429843e-02,  1.7625625e+00],\n",
       "                      [ 9.4891548e-06, -1.8744081e-01,  1.9608712e-02,  2.7974361e-01],\n",
       "                      [-3.7393270e-03, -3.8283691e-01,  2.5203586e-02,  5.7854599e-01]],\n",
       "                     dtype=float32),\n",
       "     info: Batch(\n",
       "               env_id: array([0, 0, 1, 2, 2, 2, 2, 2, 3, 3]),\n",
       "           ),\n",
       "     policy: Batch(),\n",
       " ),\n",
       " array([ 8,  7, 37, 62, 56, 50, 53, 55, 75, 76]))"
      ]
     },
     "execution_count": 8,
     "metadata": {},
     "output_type": "execute_result"
    }
   ],
   "source": [
    "replaybuffer.sample(10)"
   ]
  },
  {
   "cell_type": "code",
   "execution_count": null,
   "metadata": {},
   "outputs": [],
   "source": []
  }
 ],
 "metadata": {
  "kernelspec": {
   "display_name": "RI_venv",
   "language": "python",
   "name": "python3"
  },
  "language_info": {
   "codemirror_mode": {
    "name": "ipython",
    "version": 3
   },
   "file_extension": ".py",
   "mimetype": "text/x-python",
   "name": "python",
   "nbconvert_exporter": "python",
   "pygments_lexer": "ipython3",
   "version": "3.10.11"
  }
 },
 "nbformat": 4,
 "nbformat_minor": 2
}
