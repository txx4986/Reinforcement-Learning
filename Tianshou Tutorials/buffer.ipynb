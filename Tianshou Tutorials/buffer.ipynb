{
 "cells": [
  {
   "cell_type": "markdown",
   "metadata": {},
   "source": [
    "# Replay Buffer\n",
    "## Usages\n",
    "### Basic usages as a batch\n",
    "Usually a buffer stores all the data in a batch with circular-queue style."
   ]
  },
  {
   "cell_type": "code",
   "execution_count": 5,
   "metadata": {},
   "outputs": [
    {
     "name": "stdout",
     "output_type": "stream",
     "text": [
      "==========================================\n",
      "ReplayBuffer()\n",
      "maxsize: 10, data length: 0\n",
      "==========================================\n",
      "ReplayBuffer(\n",
      "    obs_next: array([1, 2, 3, 0, 0, 0, 0, 0, 0, 0]),\n",
      "    obs: array([0, 1, 2, 0, 0, 0, 0, 0, 0, 0]),\n",
      "    terminated: array([False, False, False, False, False, False, False, False, False,\n",
      "                       False]),\n",
      "    info: Batch(),\n",
      "    rew: array([0., 1., 2., 0., 0., 0., 0., 0., 0., 0.]),\n",
      "    act: array([0, 1, 2, 0, 0, 0, 0, 0, 0, 0]),\n",
      "    truncated: array([False, False, False, False, False, False, False, False, False,\n",
      "                      False]),\n",
      "    done: array([False, False, False, False, False, False, False, False, False,\n",
      "                 False]),\n",
      ")\n",
      "maxsize: 10, data length: 3\n",
      "==========================================\n",
      "ReplayBuffer(\n",
      "    obs_next: array([11, 12, 13,  4,  5,  6,  7,  8,  9, 10]),\n",
      "    obs: array([10, 11, 12,  3,  4,  5,  6,  7,  8,  9]),\n",
      "    terminated: array([False, False, False, False, False, False, False, False, False,\n",
      "                       False]),\n",
      "    info: Batch(),\n",
      "    rew: array([10., 11., 12.,  3.,  4.,  5.,  6.,  7.,  8.,  9.]),\n",
      "    act: array([10, 11, 12,  3,  4,  5,  6,  7,  8,  9]),\n",
      "    truncated: array([False, False, False, False, False, False, False, False, False,\n",
      "                      False]),\n",
      "    done: array([False, False, False, False, False, False, False, False, False,\n",
      "                 False]),\n",
      ")\n",
      "maxsize: 10, data length: 10\n"
     ]
    }
   ],
   "source": [
    "from tianshou.data import Batch, ReplayBuffer\n",
    "# a buffer is initialised with its maxsize set to 10 (older data will be discarded if more data flow in)\n",
    "print(\"==========================================\")\n",
    "buf = ReplayBuffer(size=10)\n",
    "print(buf)\n",
    "print(\"maxsize: {}, data length: {}\".format(buf.maxsize, len(buf)))\n",
    "\n",
    "# add 3 steps of data into ReplayBuffer sequentially\n",
    "print(\"==========================================\")\n",
    "for i in range(3):\n",
    "    buf.add(Batch(obs=i, act=i, rew=i, done=0, terminated=0, truncated=0, obs_next=i + 1, info={}))\n",
    "print(buf)\n",
    "print(\"maxsize: {}, data length: {}\".format(buf.maxsize, len(buf)))\n",
    "\n",
    "# add another 10 steps of data into ReplayBuffer sequentially\n",
    "print(\"==========================================\")\n",
    "for i in range(3, 13):\n",
    "    buf.add(Batch(obs=i, act=i, rew=i, done=0, terminated=0, truncated=0, obs_next=i + 1, info={}))\n",
    "print(buf)\n",
    "print(\"maxsize: {}, data length: {}\".format(buf.maxsize, len(buf)))    "
   ]
  },
  {
   "cell_type": "markdown",
   "metadata": {},
   "source": [
    "Just like Batch, ReplayBuffer supports concatenation, splitting, advanced slicing and indexing, etc."
   ]
  },
  {
   "cell_type": "code",
   "execution_count": 6,
   "metadata": {},
   "outputs": [
    {
     "name": "stdout",
     "output_type": "stream",
     "text": [
      "Batch(\n",
      "    obs: array(9),\n",
      "    act: array(9),\n",
      "    rew: array(9.),\n",
      "    terminated: array(False),\n",
      "    truncated: array(False),\n",
      "    done: array(False),\n",
      "    obs_next: array(10),\n",
      "    info: Batch(),\n",
      "    policy: Batch(),\n",
      ")\n",
      "Batch(\n",
      "    obs: array([7, 8, 9]),\n",
      "    act: array([7, 8, 9]),\n",
      "    rew: array([7., 8., 9.]),\n",
      "    terminated: array([False, False, False]),\n",
      "    truncated: array([False, False, False]),\n",
      "    done: array([False, False, False]),\n",
      "    obs_next: array([ 8,  9, 10]),\n",
      "    info: Batch(),\n",
      "    policy: Batch(),\n",
      ")\n"
     ]
    }
   ],
   "source": [
    "print(buf[-1])\n",
    "print(buf[-3:])"
   ]
  },
  {
   "cell_type": "markdown",
   "metadata": {},
   "source": [
    "ReplayBuffer can also be saved into local disk, still keeping track of the trajectories. This is extremely helpful in offline DRL settings."
   ]
  },
  {
   "cell_type": "code",
   "execution_count": 7,
   "metadata": {},
   "outputs": [],
   "source": [
    "import pickle\n",
    "_buf = pickle.loads(pickle.dumps(buf))"
   ]
  },
  {
   "cell_type": "markdown",
   "metadata": {},
   "source": [
    "### Data sampling\n",
    "We keep a replay buffer in DRL for one purpose: \"sample data from it for training\". `ReplayBuffer.sample()` and `ReplayBuffer.split(..., shuffle=True)` can both fulfill this need."
   ]
  },
  {
   "cell_type": "code",
   "execution_count": 8,
   "metadata": {},
   "outputs": [
    {
     "data": {
      "text/plain": [
       "(Batch(\n",
       "     obs: array([5, 8, 3, 3, 3]),\n",
       "     act: array([5, 8, 3, 3, 3]),\n",
       "     rew: array([5., 8., 3., 3., 3.]),\n",
       "     terminated: array([False, False, False, False, False]),\n",
       "     truncated: array([False, False, False, False, False]),\n",
       "     done: array([False, False, False, False, False]),\n",
       "     obs_next: array([6, 9, 4, 4, 4]),\n",
       "     info: Batch(),\n",
       "     policy: Batch(),\n",
       " ),\n",
       " array([5, 8, 3, 3, 3]))"
      ]
     },
     "execution_count": 8,
     "metadata": {},
     "output_type": "execute_result"
    }
   ],
   "source": [
    "buf.sample(5)"
   ]
  },
  {
   "cell_type": "markdown",
   "metadata": {},
   "source": [
    "### Trajectory tracking\n",
    "Compared to a Batch, a unique feature of ReplayBuffer is that it can help you track environment trajectories.\n",
    "\n",
    "First, let us simulate a situation, where we add three trajectories into the buffer. The last trajectory is still not finished yet."
   ]
  },
  {
   "cell_type": "code",
   "execution_count": 14,
   "metadata": {},
   "outputs": [
    {
     "name": "stdout",
     "output_type": "stream",
     "text": [
      "=========================================\n",
      "(array([0]), array([0.]), array([0]), array([0]))\n",
      "(array([1]), array([0.]), array([0]), array([0]))\n",
      "(array([2]), array([3.]), array([3]), array([0]))\n",
      "ReplayBuffer(\n",
      "    obs_next: array([1, 2, 3, 0, 0, 0, 0, 0, 0, 0]),\n",
      "    obs: array([0, 1, 2, 0, 0, 0, 0, 0, 0, 0]),\n",
      "    terminated: array([False, False,  True, False, False, False, False, False, False,\n",
      "                       False]),\n",
      "    info: Batch(),\n",
      "    rew: array([0., 1., 2., 0., 0., 0., 0., 0., 0., 0.]),\n",
      "    act: array([0, 1, 2, 0, 0, 0, 0, 0, 0, 0]),\n",
      "    truncated: array([False, False,  True, False, False, False, False, False, False,\n",
      "                      False]),\n",
      "    done: array([False, False,  True, False, False, False, False, False, False,\n",
      "                 False]),\n",
      ")\n",
      "maxsize: 10, data length: 3\n",
      "=========================================\n",
      "(array([3]), array([0.]), array([0]), array([3]))\n",
      "(array([4]), array([0.]), array([0]), array([3]))\n",
      "(array([5]), array([0.]), array([0]), array([3]))\n",
      "(array([6]), array([0.]), array([0]), array([3]))\n",
      "(array([7]), array([25.]), array([5]), array([3]))\n",
      "ReplayBuffer(\n",
      "    obs_next: array([1, 2, 3, 4, 5, 6, 7, 8, 0, 0]),\n",
      "    obs: array([0, 1, 2, 3, 4, 5, 6, 7, 0, 0]),\n",
      "    terminated: array([False, False,  True, False, False, False, False,  True, False,\n",
      "                       False]),\n",
      "    info: Batch(),\n",
      "    rew: array([0., 1., 2., 3., 4., 5., 6., 7., 0., 0.]),\n",
      "    act: array([0, 1, 2, 3, 4, 5, 6, 7, 0, 0]),\n",
      "    truncated: array([False, False,  True, False, False, False, False,  True, False,\n",
      "                      False]),\n",
      "    done: array([False, False,  True, False, False, False, False,  True, False,\n",
      "                 False]),\n",
      ")\n",
      "maxsize: 10, data length: 8\n",
      "=========================================\n",
      "(array([8]), array([0.]), array([0]), array([8]))\n",
      "(array([9]), array([0.]), array([0]), array([8]))\n",
      "(array([0]), array([0.]), array([0]), array([8]))\n",
      "(array([1]), array([0.]), array([0]), array([8]))\n",
      "(array([2]), array([0.]), array([0]), array([8]))\n",
      "ReplayBuffer(\n",
      "    obs_next: array([11, 12, 13,  4,  5,  6,  7,  8,  9, 10]),\n",
      "    obs: array([10, 11, 12,  3,  4,  5,  6,  7,  8,  9]),\n",
      "    terminated: array([False, False, False, False, False, False, False,  True, False,\n",
      "                       False]),\n",
      "    info: Batch(),\n",
      "    rew: array([10., 11., 12.,  3.,  4.,  5.,  6.,  7.,  8.,  9.]),\n",
      "    act: array([10, 11, 12,  3,  4,  5,  6,  7,  8,  9]),\n",
      "    truncated: array([False, False, False, False, False, False, False,  True, False,\n",
      "                      False]),\n",
      "    done: array([False, False, False, False, False, False, False,  True, False,\n",
      "                 False]),\n",
      ")\n",
      "maxsize: 10, data length: 10\n"
     ]
    }
   ],
   "source": [
    "from numpy import False_\n",
    "buf  = ReplayBuffer(size=10)\n",
    "# add the first trajectory (length is 3) into ReplayBuffer\n",
    "print(\"=========================================\")\n",
    "for i in range(3):\n",
    "    result = buf.add(Batch(obs=i, act=i, rew=i, done=True if i==2 else False, terminated=True if i==2 else False, truncated=True if i==2 else False, obs_next=i + 1, info={}))\n",
    "    print(result)\n",
    "print(buf)\n",
    "print(\"maxsize: {}, data length: {}\".format(buf.maxsize, len(buf)))\n",
    "\n",
    "# add the second trajectory (length is 5) into ReplayBuffer\n",
    "print(\"=========================================\")\n",
    "for i in range(3, 8):\n",
    "    result = buf.add(Batch(obs=i, act=i, rew=i, done=True if i==7 else False, terminated=True if i==7 else False, truncated=True if i==7 else False, obs_next=i + 1, info={}))\n",
    "    print(result)\n",
    "print(buf)\n",
    "print(\"maxsize: {}, data length: {}\".format(buf.maxsize, len(buf)))\n",
    "\n",
    "# add the third trajectory (length is 5, still not finished) into ReplayBuffer\n",
    "print(\"=========================================\")\n",
    "for i in range(8, 13):\n",
    "    result = buf.add(Batch(obs=i, act=i, rew=i, done=False, terminated=False, truncated=False, obs_next=i + 1, info={}))\n",
    "    print(result)\n",
    "print(buf)\n",
    "print(\"maxsize: {}, data length: {}\".format(buf.maxsize, len(buf)))"
   ]
  },
  {
   "cell_type": "markdown",
   "metadata": {},
   "source": [
    "#### episode length and rewards tracking\n",
    "Notice that `ReplayBuffer.add()` returns a tuple of 4 numbers every time it returns, meaning `(current_index, episode_reward, episode_length, episode_start_index)`. `episode_reward` and `episode_length` are valid only when a trajectory is finished.\n",
    "\n",
    "#### Episode index management\n",
    "In the ReplayBuffer above, we can get access to any data step by indexing."
   ]
  },
  {
   "cell_type": "code",
   "execution_count": 15,
   "metadata": {},
   "outputs": [
    {
     "name": "stdout",
     "output_type": "stream",
     "text": [
      "ReplayBuffer(\n",
      "    obs_next: array([11, 12, 13,  4,  5,  6,  7,  8,  9, 10]),\n",
      "    obs: array([10, 11, 12,  3,  4,  5,  6,  7,  8,  9]),\n",
      "    terminated: array([False, False, False, False, False, False, False,  True, False,\n",
      "                       False]),\n",
      "    info: Batch(),\n",
      "    rew: array([10., 11., 12.,  3.,  4.,  5.,  6.,  7.,  8.,  9.]),\n",
      "    act: array([10, 11, 12,  3,  4,  5,  6,  7,  8,  9]),\n",
      "    truncated: array([False, False, False, False, False, False, False,  True, False,\n",
      "                      False]),\n",
      "    done: array([False, False, False, False, False, False, False,  True, False,\n",
      "                 False]),\n",
      ")\n",
      "Batch(\n",
      "    obs: array(6),\n",
      "    act: array(6),\n",
      "    rew: array(6.),\n",
      "    terminated: array(False),\n",
      "    truncated: array(False),\n",
      "    done: array(False),\n",
      "    obs_next: array(7),\n",
      "    info: Batch(),\n",
      "    policy: Batch(),\n",
      ")\n"
     ]
    }
   ],
   "source": [
    "print(buf)\n",
    "data = buf[6]\n",
    "print(data)"
   ]
  },
  {
   "cell_type": "markdown",
   "metadata": {},
   "source": [
    "Now we know that step \"6\" is not the start of an episode (it should be step4, 4-7 is the second trajectory we add into the ReplayBuffer), we wonder what is the earliest index of that episode.\n",
    "\n",
    "This may seem easy but actually it is not. We cannot simply look at the \"done\" flag now, because we can see that since the third-added trajectory is not finished yet, step \"4\" is surrounded by flag \"False\". there are many things to consider. things could get more nasty if you are using more advanced ReplayBuffer liek VectorReplayBuffer, because now data is not stored in a simple circular-queue.\n",
    "\n",
    "Luckily, all ReplayBuffer instances help you identify step indexes through a unified API."
   ]
  },
  {
   "cell_type": "code",
   "execution_count": 16,
   "metadata": {},
   "outputs": [
    {
     "name": "stdout",
     "output_type": "stream",
     "text": [
      "5\n",
      "4\n",
      "3\n",
      "3\n"
     ]
    }
   ],
   "source": [
    "# search for the previous index of index \"6\"\n",
    "now_index = 6\n",
    "while True:\n",
    "    prev_index = buf.prev(now_index)\n",
    "    print(prev_index)\n",
    "    if prev_index == now_index:\n",
    "        break\n",
    "    else: now_index = prev_index"
   ]
  },
  {
   "cell_type": "markdown",
   "metadata": {},
   "source": [
    "Using `ReplayBuffer.prev()`, we know that the earliest step of that episode is step \"3\". Similarly, `ReplayBuffer.next()` helps us identify the last index of an episode regardless of which kind of ReplayBuffer we are using."
   ]
  },
  {
   "cell_type": "code",
   "execution_count": 17,
   "metadata": {},
   "outputs": [
    {
     "name": "stdout",
     "output_type": "stream",
     "text": [
      "[5 6 7 7 9 0]\n"
     ]
    }
   ],
   "source": [
    "# next step of indexes [4, 5, 6, 7, 8, 9] are:\n",
    "print(buf.next([4, 5, 6, 7, 8, 9]))"
   ]
  },
  {
   "cell_type": "markdown",
   "metadata": {},
   "source": [
    "We can also search for the indexes which are labeled \"done: False\", but are the lest step in a trajectory."
   ]
  },
  {
   "cell_type": "code",
   "execution_count": 18,
   "metadata": {},
   "outputs": [
    {
     "name": "stdout",
     "output_type": "stream",
     "text": [
      "[2]\n"
     ]
    }
   ],
   "source": [
    "print(buf.unfinished_index())"
   ]
  },
  {
   "cell_type": "markdown",
   "metadata": {},
   "source": []
  }
 ],
 "metadata": {
  "kernelspec": {
   "display_name": "RI_venv",
   "language": "python",
   "name": "python3"
  },
  "language_info": {
   "codemirror_mode": {
    "name": "ipython",
    "version": 3
   },
   "file_extension": ".py",
   "mimetype": "text/x-python",
   "name": "python",
   "nbconvert_exporter": "python",
   "pygments_lexer": "ipython3",
   "version": "3.10.11"
  }
 },
 "nbformat": 4,
 "nbformat_minor": 2
}
