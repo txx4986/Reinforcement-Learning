{
 "cells": [
  {
   "cell_type": "markdown",
   "metadata": {},
   "source": [
    "# Vectorised Environment\n",
    "## Overview\n",
    "In Gym, an environment recieves an action and returns the next observation and reward. This process is slow and sometimes can be the throughout bottleneck in a DRL experiment.\n",
    "\n",
    "Tianshou provides vectorised environment wrapper for a Gym environment. This wrapper allows you to make use of multiple cpu cores in your server to accelerate the data sampling."
   ]
  },
  {
   "cell_type": "code",
   "execution_count": 22,
   "metadata": {},
   "outputs": [
    {
     "name": "stderr",
     "output_type": "stream",
     "text": [
      "2023-11-13 11:29:11.282229: I tensorflow/core/platform/cpu_feature_guard.cc:182] This TensorFlow binary is optimized to use available CPU instructions in performance-critical operations.\n",
      "To enable the following instructions: AVX2 AVX512F AVX512_VNNI FMA, in other operations, rebuild TensorFlow with the appropriate compiler flags.\n",
      "/Users/tanxiaoxuan/reinforcement_learning/RI_venv/lib/python3.10/site-packages/gymnasium/envs/registration.py:523: DeprecationWarning: \u001b[33mWARN: The environment CartPole-v0 is out of date. You should consider upgrading to version `v1`.\u001b[0m\n",
      "  logger.deprecation(\n"
     ]
    },
    {
     "name": "stdout",
     "output_type": "stream",
     "text": [
      "0.30324292182922363s used to sample 1000 steps if using 1 cpus.\n"
     ]
    },
    {
     "name": "stderr",
     "output_type": "stream",
     "text": [
      "2023-11-13 11:29:20.275636: I tensorflow/core/platform/cpu_feature_guard.cc:182] This TensorFlow binary is optimized to use available CPU instructions in performance-critical operations.\n",
      "To enable the following instructions: AVX2 AVX512F AVX512_VNNI FMA, in other operations, rebuild TensorFlow with the appropriate compiler flags.\n",
      "/Users/tanxiaoxuan/reinforcement_learning/RI_venv/lib/python3.10/site-packages/gymnasium/envs/registration.py:523: DeprecationWarning: \u001b[33mWARN: The environment CartPole-v0 is out of date. You should consider upgrading to version `v1`.\u001b[0m\n",
      "  logger.deprecation(\n",
      "2023-11-13 11:29:28.801389: I tensorflow/core/platform/cpu_feature_guard.cc:182] This TensorFlow binary is optimized to use available CPU instructions in performance-critical operations.\n",
      "To enable the following instructions: AVX2 AVX512F AVX512_VNNI FMA, in other operations, rebuild TensorFlow with the appropriate compiler flags.\n"
     ]
    },
    {
     "name": "stdout",
     "output_type": "stream",
     "text": [
      "0.14555811882019043s used to sample 1000 steps if using 2 cpus.\n"
     ]
    },
    {
     "name": "stderr",
     "output_type": "stream",
     "text": [
      "/Users/tanxiaoxuan/reinforcement_learning/RI_venv/lib/python3.10/site-packages/gymnasium/envs/registration.py:523: DeprecationWarning: \u001b[33mWARN: The environment CartPole-v0 is out of date. You should consider upgrading to version `v1`.\u001b[0m\n",
      "  logger.deprecation(\n",
      "2023-11-13 11:29:37.541092: I tensorflow/core/platform/cpu_feature_guard.cc:182] This TensorFlow binary is optimized to use available CPU instructions in performance-critical operations.\n",
      "To enable the following instructions: AVX2 AVX512F AVX512_VNNI FMA, in other operations, rebuild TensorFlow with the appropriate compiler flags.\n",
      "/Users/tanxiaoxuan/reinforcement_learning/RI_venv/lib/python3.10/site-packages/gymnasium/envs/registration.py:523: DeprecationWarning: \u001b[33mWARN: The environment CartPole-v0 is out of date. You should consider upgrading to version `v1`.\u001b[0m\n",
      "  logger.deprecation(\n",
      "2023-11-13 11:29:46.263816: I tensorflow/core/platform/cpu_feature_guard.cc:182] This TensorFlow binary is optimized to use available CPU instructions in performance-critical operations.\n",
      "To enable the following instructions: AVX2 AVX512F AVX512_VNNI FMA, in other operations, rebuild TensorFlow with the appropriate compiler flags.\n",
      "/Users/tanxiaoxuan/reinforcement_learning/RI_venv/lib/python3.10/site-packages/gymnasium/envs/registration.py:523: DeprecationWarning: \u001b[33mWARN: The environment CartPole-v0 is out of date. You should consider upgrading to version `v1`.\u001b[0m\n",
      "  logger.deprecation(\n",
      "2023-11-13 11:29:54.864149: I tensorflow/core/platform/cpu_feature_guard.cc:182] This TensorFlow binary is optimized to use available CPU instructions in performance-critical operations.\n",
      "To enable the following instructions: AVX2 AVX512F AVX512_VNNI FMA, in other operations, rebuild TensorFlow with the appropriate compiler flags.\n",
      "/Users/tanxiaoxuan/reinforcement_learning/RI_venv/lib/python3.10/site-packages/gymnasium/envs/registration.py:523: DeprecationWarning: \u001b[33mWARN: The environment CartPole-v0 is out of date. You should consider upgrading to version `v1`.\u001b[0m\n",
      "  logger.deprecation(\n",
      "2023-11-13 11:30:03.817244: I tensorflow/core/platform/cpu_feature_guard.cc:182] This TensorFlow binary is optimized to use available CPU instructions in performance-critical operations.\n",
      "To enable the following instructions: AVX2 AVX512F AVX512_VNNI FMA, in other operations, rebuild TensorFlow with the appropriate compiler flags.\n",
      "/Users/tanxiaoxuan/reinforcement_learning/RI_venv/lib/python3.10/site-packages/gymnasium/envs/registration.py:523: DeprecationWarning: \u001b[33mWARN: The environment CartPole-v0 is out of date. You should consider upgrading to version `v1`.\u001b[0m\n",
      "  logger.deprecation(\n",
      "2023-11-13 11:30:12.860419: I tensorflow/core/platform/cpu_feature_guard.cc:182] This TensorFlow binary is optimized to use available CPU instructions in performance-critical operations.\n",
      "To enable the following instructions: AVX2 AVX512F AVX512_VNNI FMA, in other operations, rebuild TensorFlow with the appropriate compiler flags.\n"
     ]
    },
    {
     "name": "stdout",
     "output_type": "stream",
     "text": [
      "0.1420140266418457s used to sample 1000 steps if using 5 cpus.\n"
     ]
    },
    {
     "name": "stderr",
     "output_type": "stream",
     "text": [
      "/Users/tanxiaoxuan/reinforcement_learning/RI_venv/lib/python3.10/site-packages/gymnasium/envs/registration.py:523: DeprecationWarning: \u001b[33mWARN: The environment CartPole-v0 is out of date. You should consider upgrading to version `v1`.\u001b[0m\n",
      "  logger.deprecation(\n"
     ]
    }
   ],
   "source": [
    "from tianshou.env import SubprocVectorEnv\n",
    "import numpy as np\n",
    "import gymnasium as gym\n",
    "import time\n",
    "\n",
    "num_cpus = [1, 2, 5]\n",
    "for num_cpu in num_cpus:\n",
    "    env = SubprocVectorEnv([lambda: gym.make('CartPole-v0') for _ in range(num_cpu)])\n",
    "    env.reset()\n",
    "    sampled_steps = 0\n",
    "    time_start = time.time()\n",
    "    while sampled_steps < 1000:\n",
    "        act = np.random.choice(2, size=num_cpu)\n",
    "        obs, rew, terminated, truncated, info = env.step(act)\n",
    "        done = terminated + truncated\n",
    "        if np.sum(done):\n",
    "            env.reset(np.where(done)[0])\n",
    "        sampled_steps += num_cpu\n",
    "    time_used = time.time() - time_start\n",
    "    print(\"{}s used to sample 1000 steps if using {} cpus.\".format(time_used, num_cpu))"
   ]
  },
  {
   "cell_type": "markdown",
   "metadata": {},
   "source": [
    "## Usages\n",
    "### Initialisation\n",
    "Just pass in a list of functions which return the initialised environment upon called."
   ]
  },
  {
   "cell_type": "code",
   "execution_count": 23,
   "metadata": {},
   "outputs": [
    {
     "name": "stdout",
     "output_type": "stream",
     "text": [
      "<tianshou.env.venvs.DummyVectorEnv object at 0x167cd64d0>\n"
     ]
    }
   ],
   "source": [
    "from tianshou.env import DummyVectorEnv\n",
    "# in gym\n",
    "env = gym.make(\"CartPole-v0\")\n",
    "\n",
    "# in tianshou\n",
    "def helper_function():\n",
    "    env = gym.make(\"CartPole-v0\")\n",
    "    # other operations such as env.seed(np.random.choice(10))\n",
    "    return env\n",
    "\n",
    "envs = DummyVectorEnv([helper_function for _ in range(5)])\n",
    "print(envs)"
   ]
  },
  {
   "cell_type": "markdown",
   "metadata": {},
   "source": [
    "### Environment exection and resetting\n",
    "The only difference between vectorised environment and standard gym environments is that passed in actions and returned rewards/observations are also vectorised."
   ]
  },
  {
   "cell_type": "code",
   "execution_count": 24,
   "metadata": {},
   "outputs": [
    {
     "name": "stdout",
     "output_type": "stream",
     "text": [
      "(array([ 0.02075961, -0.01380869, -0.03240999,  0.01060295], dtype=float32), {})\n",
      "========================================\n",
      "(array([[-0.01293166,  0.02808111,  0.02603966,  0.00533931],\n",
      "       [-0.04412643, -0.0465113 ,  0.03728771, -0.01175328],\n",
      "       [ 0.04276416, -0.00653805, -0.04383047, -0.0284849 ],\n",
      "       [-0.04929027, -0.02613566, -0.02086342,  0.00562016],\n",
      "       [ 0.04259569, -0.04781166, -0.01953969,  0.03225222]],\n",
      "      dtype=float32), [{}, {}, {}, {}, {}])\n",
      "[{'env_id': 0} {'env_id': 1} {'env_id': 2} {'env_id': 3} {'env_id': 4}]\n"
     ]
    }
   ],
   "source": [
    "# In gym, env.reset() returns a single observation\n",
    "print(env.reset())\n",
    "\n",
    "# In Tianshou, envs.reset() returns stacked observations\n",
    "print(\"========================================\")\n",
    "print(envs.reset())\n",
    "\n",
    "obs, rew, terminated, truncated, info = envs.step(np.random.choice(2, size=num_cpu))\n",
    "print(info)"
   ]
  },
  {
   "cell_type": "markdown",
   "metadata": {},
   "source": [
    "If we only want to execute several environments. The `id` argument can be used."
   ]
  },
  {
   "cell_type": "code",
   "execution_count": 25,
   "metadata": {},
   "outputs": [
    {
     "name": "stdout",
     "output_type": "stream",
     "text": [
      "(array([[-0.00791364,  0.02733513,  0.02056614,  0.02179806],\n",
      "       [-0.05423203, -0.0255407 , -0.01491806, -0.00750654],\n",
      "       [-0.04989961, -0.43777773,  0.04290179,  0.596592  ]],\n",
      "      dtype=float32), array([1., 1., 1.]), array([False, False, False]), array([False, False, False]), array([{'env_id': 0}, {'env_id': 3}, {'env_id': 1}], dtype=object))\n"
     ]
    }
   ],
   "source": [
    "print(envs.step(np.random.choice(2, size=3), id=[0, 3, 1]))"
   ]
  },
  {
   "cell_type": "code",
   "execution_count": null,
   "metadata": {},
   "outputs": [],
   "source": []
  }
 ],
 "metadata": {
  "kernelspec": {
   "display_name": "RI_venv",
   "language": "python",
   "name": "python3"
  },
  "language_info": {
   "codemirror_mode": {
    "name": "ipython",
    "version": 3
   },
   "file_extension": ".py",
   "mimetype": "text/x-python",
   "name": "python",
   "nbconvert_exporter": "python",
   "pygments_lexer": "ipython3",
   "version": "3.10.11"
  }
 },
 "nbformat": 4,
 "nbformat_minor": 2
}
