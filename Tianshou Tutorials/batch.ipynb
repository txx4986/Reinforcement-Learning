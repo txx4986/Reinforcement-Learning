{
 "cells": [
  {
   "cell_type": "markdown",
   "metadata": {},
   "source": [
    "# Batch\n",
    "A batch is simply a dictionary which stores all passed in data as key-value pairs, and automatically turns the value into a numpy array if possible. \n",
    "\n",
    "**Why we need Batch in Tianshou?** <br>\n",
    "In DRL, you need to handle a lot of dictionary-format data. For instance most algorithms would require you to store state, action and reward data for every step when interacting with the environment. All these data can be organised as a dictionary and a Batch module helps Tianshou unify the interface of a diverse set of algorithms. Plus, Batch supports advanced indexing, concatenation and splitting, formatting print just like any other numpy array, which may be very helpful for developers."
   ]
  },
  {
   "cell_type": "code",
   "execution_count": 9,
   "metadata": {},
   "outputs": [
    {
     "name": "stdout",
     "output_type": "stream",
     "text": [
      "Batch(\n",
      "    a: array(4),\n",
      "    b: array([5, 5]),\n",
      "    c: '2312312',\n",
      "    d: array(['a', '-2', '-3'], dtype=object),\n",
      ")\n",
      "[5 5]\n"
     ]
    }
   ],
   "source": [
    "import numpy as np\n",
    "from tianshou.data import Batch\n",
    "data = Batch(a=4, b=[5, 5], c='2312312', d=('a', -2, -3))\n",
    "print(data)\n",
    "print(data.b)"
   ]
  },
  {
   "cell_type": "markdown",
   "metadata": {},
   "source": [
    "## Basic Usages\n",
    "### Initialisation\n",
    "Batch can be converted directly from a python dictionary, and all data structure will be converted to numpy array if possible.\n"
   ]
  },
  {
   "cell_type": "code",
   "execution_count": 15,
   "metadata": {},
   "outputs": [
    {
     "name": "stdout",
     "output_type": "stream",
     "text": [
      "========================================\n",
      "Batch(\n",
      "    a: array([4, 4]),\n",
      "    b: array([5, 5]),\n",
      ")\n",
      "========================================\n",
      "Batch(\n",
      "    a: array([4, 4]),\n",
      "    b: array([5, 5]),\n",
      ")\n",
      "========================================\n",
      "Batch(\n",
      "    action: array([1., 0., 2., 3.]),\n",
      "    reward: array(3.66),\n",
      "    obs: Batch(\n",
      "             rgb_obs: array([[0., 0., 0.],\n",
      "                             [0., 0., 0.],\n",
      "                             [0., 0., 0.]]),\n",
      "             flatten_obs: array([1., 1., 1., 1., 1.]),\n",
      "         ),\n",
      "    extra: 'extra_string',\n",
      ")\n",
      "<class 'tianshou.data.batch.Batch'>\n",
      "[[0. 0. 0.]\n",
      " [0. 0. 0.]\n",
      " [0. 0. 0.]]\n",
      "========================================\n",
      "Batch(\n",
      "    action: array([[1., 0., 2., 3.],\n",
      "                   [1., 0., 2., 3.],\n",
      "                   [1., 0., 2., 3.]]),\n",
      "    reward: array([3.66, 3.66, 3.66]),\n",
      "    obs: Batch(\n",
      "             rgb_obs: array([[[0., 0., 0.],\n",
      "                              [0., 0., 0.],\n",
      "                              [0., 0., 0.]],\n",
      "                      \n",
      "                             [[0., 0., 0.],\n",
      "                              [0., 0., 0.],\n",
      "                              [0., 0., 0.]],\n",
      "                      \n",
      "                             [[0., 0., 0.],\n",
      "                              [0., 0., 0.],\n",
      "                              [0., 0., 0.]]]),\n",
      "             flatten_obs: array([[1., 1., 1., 1., 1.],\n",
      "                                 [1., 1., 1., 1., 1.],\n",
      "                                 [1., 1., 1., 1., 1.]]),\n",
      "         ),\n",
      ")\n",
      "(3, 3, 3)\n"
     ]
    }
   ],
   "source": [
    "# converted from a python library\n",
    "print(\"========================================\")\n",
    "batch1 = Batch({'a': [4, 4], 'b': (5, 5)})\n",
    "print(batch1)\n",
    "\n",
    "# initialisation of batch2 is equivalent to batch1\n",
    "print(\"========================================\")\n",
    "batch2 = Batch(a=[4, 4], b=(5, 5))\n",
    "print(batch2)\n",
    "\n",
    "# the dictionary can be nested, and it will be turned into a nested Batch\n",
    "print(\"========================================\")\n",
    "data = {\n",
    "    'action': np.array([1,0, 2.0, 3.0]),\n",
    "    'reward': 3.66,\n",
    "    'obs': {\"rgb_obs\": np.zeros((3, 3)), \"flatten_obs\": np.ones(5)}\n",
    "}\n",
    "\n",
    "batch3 = Batch(data, extra=\"extra_string\")\n",
    "print(batch3)\n",
    "# batch3.obs is also a Batch\n",
    "print(type(batch3.obs))\n",
    "print(batch3.obs.rgb_obs)\n",
    "\n",
    "# a list of dictionary/Batch will automatically be concatenated/stacked, providing convenience if you want to use parallelised environemnts to collect data\n",
    "print(\"========================================\")\n",
    "batch4 = Batch([data] * 3)\n",
    "print(batch4)\n",
    "print(batch4.obs.rgb_obs.shape)                "
   ]
  },
  {
   "cell_type": "markdown",
   "metadata": {},
   "source": [
    "### Getting access to data\n",
    "You can conveniently search or change the key-value pair in the Batch just as if it is a Python dictionary."
   ]
  },
  {
   "cell_type": "code",
   "execution_count": 16,
   "metadata": {},
   "outputs": [
    {
     "name": "stdout",
     "output_type": "stream",
     "text": [
      "Batch(\n",
      "    a: array([4, 4]),\n",
      "    b: array([5, 5]),\n",
      ")\n",
      "========================================\n",
      "Batch(\n",
      "    b: array([5, 5]),\n",
      "    c: Batch(\n",
      "           c1: array([0, 1, 2]),\n",
      "           c2: array(False),\n",
      "       ),\n",
      ")\n",
      "========================================\n",
      "True\n",
      "========================================\n",
      "b: [5 5]\n",
      "c: Batch(\n",
      "    c1: array([0, 1, 2]),\n",
      "    c2: array(False),\n",
      ")\n"
     ]
    }
   ],
   "source": [
    "batch1 = Batch({'a': [4, 4], 'b': (5, 5)})\n",
    "print(batch1)\n",
    "# add or delete key-value pair in batch1\n",
    "print(\"========================================\")\n",
    "batch1.c = Batch(c1=np.arange(3), c2=False)\n",
    "del batch1.a\n",
    "print(batch1)\n",
    "\n",
    "# access value by key\n",
    "print(\"========================================\")\n",
    "assert batch1[\"c\"] is batch1.c \n",
    "print(\"c\" in batch1)\n",
    "\n",
    "# traverse the Batch\n",
    "print(\"========================================\")\n",
    "for key, value in batch1.items():\n",
    "    print(str(key) + \": \" + str(value))\n"
   ]
  },
  {
   "cell_type": "markdown",
   "metadata": {},
   "source": [
    "### Indexing and Slicing\n",
    "If all values in Batch share the same shape in certain dimensions. Batch can support advanced indexing and slicing just like a normal numpy array."
   ]
  },
  {
   "cell_type": "code",
   "execution_count": 17,
   "metadata": {},
   "outputs": [
    {
     "name": "stdout",
     "output_type": "stream",
     "text": [
      "Batch(\n",
      "    rew: array([0., 0., 0., 0.]),\n",
      "    act: array([5, 2, 2, 9]),\n",
      "    obs: array([[[1., 1., 1.],\n",
      "                 [1., 1., 1.],\n",
      "                 [1., 1., 1.]],\n",
      "         \n",
      "                [[1., 1., 1.],\n",
      "                 [1., 1., 1.],\n",
      "                 [1., 1., 1.]],\n",
      "         \n",
      "                [[1., 1., 1.],\n",
      "                 [1., 1., 1.],\n",
      "                 [1., 1., 1.]],\n",
      "         \n",
      "                [[1., 1., 1.],\n",
      "                 [1., 1., 1.],\n",
      "                 [1., 1., 1.]]]),\n",
      "    info: Batch(\n",
      "              done: array([1, 0, 0, 0]),\n",
      "              falied: array([False, False, False, False]),\n",
      "          ),\n",
      ")\n",
      "[4]\n",
      "========================================\n",
      "Batch(\n",
      "    rew: 0.0,\n",
      "    act: 5,\n",
      "    obs: array([[1., 1., 1.],\n",
      "                [1., 1., 1.],\n",
      "                [1., 1., 1.]]),\n",
      "    info: Batch(\n",
      "              done: 1,\n",
      "              falied: False,\n",
      "          ),\n",
      ")\n",
      "Batch(\n",
      "    rew: array([0., 0.]),\n",
      "    act: array([5, 9]),\n",
      "    obs: array([[[1., 1., 1.],\n",
      "                 [1., 1., 1.],\n",
      "                 [1., 1., 1.]],\n",
      "         \n",
      "                [[1., 1., 1.],\n",
      "                 [1., 1., 1.],\n",
      "                 [1., 1., 1.]]]),\n",
      "    info: Batch(\n",
      "              done: array([1, 0]),\n",
      "              falied: array([False, False]),\n",
      "          ),\n",
      ")\n",
      "========================================\n",
      "Batch(\n",
      "    rew: array([0., 0.]),\n",
      "    act: array([2, 9]),\n",
      "    obs: array([[[1., 1., 1.],\n",
      "                 [1., 1., 1.],\n",
      "                 [1., 1., 1.]],\n",
      "         \n",
      "                [[1., 1., 1.],\n",
      "                 [1., 1., 1.],\n",
      "                 [1., 1., 1.]]]),\n",
      "    info: Batch(\n",
      "              done: array([0, 0]),\n",
      "              falied: array([False, False]),\n",
      "          ),\n",
      ")\n"
     ]
    }
   ],
   "source": [
    "# suppose we've got 4 environments, each returns a step of data\n",
    "step_datas = [\n",
    "    {\n",
    "        \"act\": np.random.randint(10),\n",
    "        \"rew\": 0.0,\n",
    "        \"obs\": np.ones((3, 3)),\n",
    "        \"info\": {\"done\": np.random.choice(2), \"falied\": False}\n",
    "    } for _ in range(4)\n",
    "]\n",
    "batch = Batch(step_datas)\n",
    "print(batch)\n",
    "print(batch.shape)\n",
    "\n",
    "# advanced indexing is supported, if we only want to select data in a given set of environments\n",
    "print(\"========================================\")\n",
    "print(batch[0])\n",
    "print(batch[[0, 3]])\n",
    "\n",
    "# slicing is also supported\n",
    "print(\"========================================\")\n",
    "print(batch[-2:])"
   ]
  },
  {
   "cell_type": "markdown",
   "metadata": {},
   "source": [
    "### Aggregation and Splitting"
   ]
  },
  {
   "cell_type": "code",
   "execution_count": 18,
   "metadata": {},
   "outputs": [
    {
     "name": "stdout",
     "output_type": "stream",
     "text": [
      "========================================\n",
      "Batch(\n",
      "    a: Batch(\n",
      "           b: array([1.]),\n",
      "           d: Batch(\n",
      "                  e: array([3.]),\n",
      "              ),\n",
      "       ),\n",
      ")\n",
      "Batch(\n",
      "    a: Batch(\n",
      "           b: array([4.]),\n",
      "           d: Batch(\n",
      "                  e: array([6.]),\n",
      "              ),\n",
      "       ),\n",
      ")\n",
      "Batch(\n",
      "    a: Batch(\n",
      "           b: array([1., 4.]),\n",
      "           d: Batch(\n",
      "                  e: array([3., 6.]),\n",
      "              ),\n",
      "       ),\n",
      ")\n",
      "========================================\n",
      "Batch(\n",
      "    a: array([[0., 0.],\n",
      "              [0., 0.],\n",
      "              [0., 0.]]),\n",
      "    b: array([[1., 1., 1.],\n",
      "              [1., 1., 1.]]),\n",
      "    c: Batch(\n",
      "           d: array([[1],\n",
      "                     [2]]),\n",
      "       ),\n",
      ")\n",
      "Batch(\n",
      "    a: array([[1., 1.],\n",
      "              [1., 1.],\n",
      "              [1., 1.]]),\n",
      "    b: array([[1., 1., 1.],\n",
      "              [1., 1., 1.]]),\n",
      "    c: Batch(\n",
      "           d: array([[0],\n",
      "                     [3]]),\n",
      "       ),\n",
      ")\n",
      "Batch(\n",
      "    b: array([[[1., 1., 1.],\n",
      "               [1., 1., 1.]],\n",
      "       \n",
      "              [[1., 1., 1.],\n",
      "               [1., 1., 1.]]]),\n",
      "    c: Batch(\n",
      "           d: array([[[1],\n",
      "                      [0]],\n",
      "              \n",
      "                     [[2],\n",
      "                      [3]]]),\n",
      "       ),\n",
      "    a: array([[[0., 0.],\n",
      "               [1., 1.]],\n",
      "       \n",
      "              [[0., 0.],\n",
      "               [1., 1.]],\n",
      "       \n",
      "              [[0., 0.],\n",
      "               [1., 1.]]]),\n",
      ")\n",
      "========================================\n",
      "<class 'generator'>\n",
      "[Batch(\n",
      "    b: array([[[1., 1., 1.],\n",
      "               [1., 1., 1.]]]),\n",
      "    c: Batch(\n",
      "           d: array([[[1],\n",
      "                      [0]]]),\n",
      "       ),\n",
      "    a: array([[[0., 0.],\n",
      "               [1., 1.]]]),\n",
      "), Batch(\n",
      "    b: array([[[1., 1., 1.],\n",
      "               [1., 1., 1.]]]),\n",
      "    c: Batch(\n",
      "           d: array([[[2],\n",
      "                      [3]]]),\n",
      "       ),\n",
      "    a: array([[[0., 0.],\n",
      "               [1., 1.]]]),\n",
      ")]\n"
     ]
    }
   ],
   "source": [
    "# concat batches with compatible keys\n",
    "print(\"========================================\")\n",
    "b1 = Batch(a=[{'b': np.float64(1.0), 'd': Batch(e=np.array(3.0))}])\n",
    "b2 = Batch(a=[{'b': np.float64(4.0), 'd': {'e': np.array(6.0)}}])\n",
    "b12_cat_out = Batch.cat([b1, b2])\n",
    "print(b1)\n",
    "print(b2)\n",
    "print(b12_cat_out)\n",
    "\n",
    "# stack batches with compatible keys\n",
    "print(\"========================================\")\n",
    "b3 = Batch(a=np.zeros((3, 2)), b=np.ones((2, 3)), c=Batch(d=[[1], [2]]))\n",
    "b4 = Batch(a=np.ones((3, 2)), b=np.ones((2, 3)), c=Batch(d=[[0], [3]]))\n",
    "b34_stack = Batch.stack((b3, b4), axis=1)\n",
    "print(b3)\n",
    "print(b4)\n",
    "print(b34_stack)\n",
    "\n",
    "# split the batch into small batches of size 1, breaking the order of the data\n",
    "print(\"========================================\")\n",
    "print(type(b34_stack.split(1)))\n",
    "print(list(b34_stack.split(1, shuffle=True)))"
   ]
  },
  {
   "cell_type": "markdown",
   "metadata": {},
   "source": [
    "### Data type converting\n",
    "Besides numpy array, Batch actually also supports Torch Tensor."
   ]
  },
  {
   "cell_type": "code",
   "execution_count": 19,
   "metadata": {},
   "outputs": [
    {
     "name": "stdout",
     "output_type": "stream",
     "text": [
      "Batch(\n",
      "    b: tensor([[0., 0.],\n",
      "               [0., 0.],\n",
      "               [1., 1.],\n",
      "               [1., 1.],\n",
      "               [0., 0.],\n",
      "               [0., 0.]]),\n",
      "    a: array([0, 1, 0, 1, 0, 1]),\n",
      ")\n"
     ]
    }
   ],
   "source": [
    "import torch\n",
    "batch1 = Batch(a=np.arange(2), b=torch.zeros((2, 2)))\n",
    "batch2 = Batch(a=np.arange(2), b=torch.ones((2, 2)))\n",
    "batch_cat = Batch.cat([batch1, batch2, batch1])\n",
    "print(batch_cat)"
   ]
  },
  {
   "cell_type": "markdown",
   "metadata": {},
   "source": [
    "You can convert the data type easily, if you no longer want to use hybrid data type anymore."
   ]
  },
  {
   "cell_type": "code",
   "execution_count": 20,
   "metadata": {},
   "outputs": [
    {
     "name": "stdout",
     "output_type": "stream",
     "text": [
      "Batch(\n",
      "    b: array([[0., 0.],\n",
      "              [0., 0.],\n",
      "              [1., 1.],\n",
      "              [1., 1.],\n",
      "              [0., 0.],\n",
      "              [0., 0.]], dtype=float32),\n",
      "    a: array([0, 1, 0, 1, 0, 1]),\n",
      ")\n",
      "Batch(\n",
      "    b: tensor([[0., 0.],\n",
      "               [0., 0.],\n",
      "               [1., 1.],\n",
      "               [1., 1.],\n",
      "               [0., 0.],\n",
      "               [0., 0.]]),\n",
      "    a: tensor([0, 1, 0, 1, 0, 1]),\n",
      ")\n"
     ]
    }
   ],
   "source": [
    "batch_cat.to_numpy()\n",
    "print(batch_cat)\n",
    "batch_cat.to_torch()\n",
    "print(batch_cat)"
   ]
  },
  {
   "cell_type": "markdown",
   "metadata": {},
   "source": [
    "Batch is even serialisable, just in case you may need to save it to disk or restore it."
   ]
  },
  {
   "cell_type": "code",
   "execution_count": 21,
   "metadata": {},
   "outputs": [
    {
     "name": "stdout",
     "output_type": "stream",
     "text": [
      "Batch(\n",
      "    obs: Batch(\n",
      "             a: array(0.),\n",
      "             c: tensor([1., 2.]),\n",
      "         ),\n",
      "    np: array([[0., 0., 0., 0.],\n",
      "               [0., 0., 0., 0.],\n",
      "               [0., 0., 0., 0.]]),\n",
      ")\n"
     ]
    }
   ],
   "source": [
    "import pickle\n",
    "batch = Batch(obs=Batch(a=0.0, c=torch.Tensor([1.0, 2.0])), np=np.zeros([3, 4]))\n",
    "batch_pk = pickle.loads(pickle.dumps(batch))\n",
    "print(batch_pk)"
   ]
  },
  {
   "cell_type": "code",
   "execution_count": null,
   "metadata": {},
   "outputs": [],
   "source": []
  }
 ],
 "metadata": {
  "kernelspec": {
   "display_name": "RI_venv",
   "language": "python",
   "name": "python3"
  },
  "language_info": {
   "codemirror_mode": {
    "name": "ipython",
    "version": 3
   },
   "file_extension": ".py",
   "mimetype": "text/x-python",
   "name": "python",
   "nbconvert_exporter": "python",
   "pygments_lexer": "ipython3",
   "version": "3.10.11"
  }
 },
 "nbformat": 4,
 "nbformat_minor": 2
}
