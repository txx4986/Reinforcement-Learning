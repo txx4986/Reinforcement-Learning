{
 "cells": [
  {
   "cell_type": "markdown",
   "metadata": {},
   "source": [
    "# Multi-Agent Deep RL in Practice\n",
    "## MARL Neural Networks in PyTorch"
   ]
  },
  {
   "cell_type": "code",
   "execution_count": 4,
   "metadata": {},
   "outputs": [],
   "source": [
    "import torch\n",
    "from torch import nn\n",
    "from typing import List\n",
    "\n",
    "class MultiAgentFCNetwork(nn.Module):\n",
    "    def __init__(self, in_sizes: List[int], out_sizes: List[int]):\n",
    "        super().__init__()\n",
    "\n",
    "        # we use the ReLU activation function\n",
    "        activ = nn.ReLU\n",
    "        # we use two hidden layers of 64 units each\n",
    "        hidden_dims = (64, 64)\n",
    "\n",
    "        n_agents = len(in_sizes)\n",
    "        # the number of agents is the length of the input and output vector\n",
    "        assert n_agents == len(out_sizes)\n",
    "\n",
    "        # we will create `n_agents` (independent) networks\n",
    "        self.networks = nn.ModuleList()\n",
    "\n",
    "        # for each agent\n",
    "        for in_size, out_size in zip(in_sizes, out_sizes):\n",
    "            network = [nn.Linear(in_size, hidden_dims[0]),\n",
    "                       activ(),\n",
    "                       nn.Linear(hidden_dims[0], hidden_dims[1]),\n",
    "                       activ(),\n",
    "                       nn.Linear(hidden_dims[1], out_size)]\n",
    "            self.networks.append(nn.Sequential(*network))\n",
    "    \n",
    "    def forward(self, inputs: List[torch.Tensor]):\n",
    "        # the networks can run in parallel\n",
    "        futures = [torch.jit.fork(model, inputs[i]) for i, model in enumerate(self.networks)]\n",
    "        results = [torch.jit.wait(fut) for fut in futures]\n",
    "        return results"
   ]
  },
  {
   "cell_type": "markdown",
   "metadata": {},
   "source": [
    "## Seamless Parameter Sharing Implementation"
   ]
  },
  {
   "cell_type": "code",
   "execution_count": 5,
   "metadata": {},
   "outputs": [],
   "source": [
    "class MultiAgentFCNetwork_SharedParameters(nn.Module):\n",
    "    def __init__(self, in_sizes:List[int], out_sizes: List[int]):\n",
    "        super().__init__()\n",
    "\n",
    "        # we use the ReLU activation function\n",
    "        activ = nn.ReLU\n",
    "        # we use two hidden layers of 64 units each\n",
    "        hidden_dims = (64, 64)\n",
    "\n",
    "        n_agents = len(in_sizes)\n",
    "        # the number of agents is the length of the input and output vector\n",
    "        assert n_agents == len(out_sizes)\n",
    "\n",
    "        # we will create one (shared) network\n",
    "        # this assumes that input and output size is identical across agents. If not, we should first pad the inputs and outputs\n",
    "        network = [nn.Linear(in_sizes, hidden_dims[0]),\n",
    "                       activ(),\n",
    "                       nn.Linear(hidden_dims[0], hidden_dims[1]),\n",
    "                       activ(),\n",
    "                       nn.Linear(hidden_dims[1], out_sizes)]\n",
    "        \n",
    "        self.network = nn.Sequential(*network)\n",
    "    \n",
    "    def forward(self, inputs: List[torch.Tensor]):\n",
    "        # a forward pass of the same network in parallel\n",
    "        futures = [torch.jit.fork(self.network, inp) for inp in inputs]\n",
    "        results = [torch.jit.wait(fut) for fut in futures]\n",
    "        return results"
   ]
  },
  {
   "cell_type": "code",
   "execution_count": 11,
   "metadata": {},
   "outputs": [
    {
     "ename": "RuntimeError",
     "evalue": "mat1 and mat2 must have the same dtype, but got Long and Float",
     "output_type": "error",
     "traceback": [
      "\u001b[0;31m---------------------------------------------------------------------------\u001b[0m",
      "\u001b[0;31mRuntimeError\u001b[0m                              Traceback (most recent call last)",
      "\u001b[1;32m/Users/tanxiaoxuan/reinforcement_learning/Reinforcement-Learning/MARL.ipynb Cell 5\u001b[0m line \u001b[0;36m1\n\u001b[1;32m     <a href='vscode-notebook-cell:/Users/tanxiaoxuan/reinforcement_learning/Reinforcement-Learning/MARL.ipynb#X10sZmlsZQ%3D%3D?line=10'>11</a>\u001b[0m action_sizes \u001b[39m=\u001b[39m (\u001b[39m3\u001b[39m, \u001b[39m3\u001b[39m)\n\u001b[1;32m     <a href='vscode-notebook-cell:/Users/tanxiaoxuan/reinforcement_learning/Reinforcement-Learning/MARL.ipynb#X10sZmlsZQ%3D%3D?line=12'>13</a>\u001b[0m model \u001b[39m=\u001b[39m MultiAgentFCNetwork(obs_sizes, action_sizes)\n\u001b[0;32m---> <a href='vscode-notebook-cell:/Users/tanxiaoxuan/reinforcement_learning/Reinforcement-Learning/MARL.ipynb#X10sZmlsZQ%3D%3D?line=13'>14</a>\u001b[0m model([obs1, obs2])\n",
      "File \u001b[0;32m~/reinforcement_learning/RI_venv/lib/python3.10/site-packages/torch/nn/modules/module.py:1518\u001b[0m, in \u001b[0;36mModule._wrapped_call_impl\u001b[0;34m(self, *args, **kwargs)\u001b[0m\n\u001b[1;32m   1516\u001b[0m     \u001b[39mreturn\u001b[39;00m \u001b[39mself\u001b[39m\u001b[39m.\u001b[39m_compiled_call_impl(\u001b[39m*\u001b[39margs, \u001b[39m*\u001b[39m\u001b[39m*\u001b[39mkwargs)  \u001b[39m# type: ignore[misc]\u001b[39;00m\n\u001b[1;32m   1517\u001b[0m \u001b[39melse\u001b[39;00m:\n\u001b[0;32m-> 1518\u001b[0m     \u001b[39mreturn\u001b[39;00m \u001b[39mself\u001b[39;49m\u001b[39m.\u001b[39;49m_call_impl(\u001b[39m*\u001b[39;49margs, \u001b[39m*\u001b[39;49m\u001b[39m*\u001b[39;49mkwargs)\n",
      "File \u001b[0;32m~/reinforcement_learning/RI_venv/lib/python3.10/site-packages/torch/nn/modules/module.py:1527\u001b[0m, in \u001b[0;36mModule._call_impl\u001b[0;34m(self, *args, **kwargs)\u001b[0m\n\u001b[1;32m   1522\u001b[0m \u001b[39m# If we don't have any hooks, we want to skip the rest of the logic in\u001b[39;00m\n\u001b[1;32m   1523\u001b[0m \u001b[39m# this function, and just call forward.\u001b[39;00m\n\u001b[1;32m   1524\u001b[0m \u001b[39mif\u001b[39;00m \u001b[39mnot\u001b[39;00m (\u001b[39mself\u001b[39m\u001b[39m.\u001b[39m_backward_hooks \u001b[39mor\u001b[39;00m \u001b[39mself\u001b[39m\u001b[39m.\u001b[39m_backward_pre_hooks \u001b[39mor\u001b[39;00m \u001b[39mself\u001b[39m\u001b[39m.\u001b[39m_forward_hooks \u001b[39mor\u001b[39;00m \u001b[39mself\u001b[39m\u001b[39m.\u001b[39m_forward_pre_hooks\n\u001b[1;32m   1525\u001b[0m         \u001b[39mor\u001b[39;00m _global_backward_pre_hooks \u001b[39mor\u001b[39;00m _global_backward_hooks\n\u001b[1;32m   1526\u001b[0m         \u001b[39mor\u001b[39;00m _global_forward_hooks \u001b[39mor\u001b[39;00m _global_forward_pre_hooks):\n\u001b[0;32m-> 1527\u001b[0m     \u001b[39mreturn\u001b[39;00m forward_call(\u001b[39m*\u001b[39;49margs, \u001b[39m*\u001b[39;49m\u001b[39m*\u001b[39;49mkwargs)\n\u001b[1;32m   1529\u001b[0m \u001b[39mtry\u001b[39;00m:\n\u001b[1;32m   1530\u001b[0m     result \u001b[39m=\u001b[39m \u001b[39mNone\u001b[39;00m\n",
      "\u001b[1;32m/Users/tanxiaoxuan/reinforcement_learning/Reinforcement-Learning/MARL.ipynb Cell 5\u001b[0m line \u001b[0;36m3\n\u001b[1;32m     <a href='vscode-notebook-cell:/Users/tanxiaoxuan/reinforcement_learning/Reinforcement-Learning/MARL.ipynb#X10sZmlsZQ%3D%3D?line=29'>30</a>\u001b[0m \u001b[39mdef\u001b[39;00m \u001b[39mforward\u001b[39m(\u001b[39mself\u001b[39m, inputs: List[torch\u001b[39m.\u001b[39mTensor]):\n\u001b[1;32m     <a href='vscode-notebook-cell:/Users/tanxiaoxuan/reinforcement_learning/Reinforcement-Learning/MARL.ipynb#X10sZmlsZQ%3D%3D?line=30'>31</a>\u001b[0m     \u001b[39m# the networks can run in parallel\u001b[39;00m\n\u001b[0;32m---> <a href='vscode-notebook-cell:/Users/tanxiaoxuan/reinforcement_learning/Reinforcement-Learning/MARL.ipynb#X10sZmlsZQ%3D%3D?line=31'>32</a>\u001b[0m     futures \u001b[39m=\u001b[39m [torch\u001b[39m.\u001b[39mjit\u001b[39m.\u001b[39mfork(model, inputs[i]) \u001b[39mfor\u001b[39;00m i, model \u001b[39min\u001b[39;00m \u001b[39menumerate\u001b[39m(\u001b[39mself\u001b[39m\u001b[39m.\u001b[39mnetworks)]\n\u001b[1;32m     <a href='vscode-notebook-cell:/Users/tanxiaoxuan/reinforcement_learning/Reinforcement-Learning/MARL.ipynb#X10sZmlsZQ%3D%3D?line=32'>33</a>\u001b[0m     results \u001b[39m=\u001b[39m [torch\u001b[39m.\u001b[39mjit\u001b[39m.\u001b[39mwait(fut) \u001b[39mfor\u001b[39;00m fut \u001b[39min\u001b[39;00m futures]\n\u001b[1;32m     <a href='vscode-notebook-cell:/Users/tanxiaoxuan/reinforcement_learning/Reinforcement-Learning/MARL.ipynb#X10sZmlsZQ%3D%3D?line=33'>34</a>\u001b[0m     \u001b[39mreturn\u001b[39;00m results\n",
      "\u001b[1;32m/Users/tanxiaoxuan/reinforcement_learning/Reinforcement-Learning/MARL.ipynb Cell 5\u001b[0m line \u001b[0;36m3\n\u001b[1;32m     <a href='vscode-notebook-cell:/Users/tanxiaoxuan/reinforcement_learning/Reinforcement-Learning/MARL.ipynb#X10sZmlsZQ%3D%3D?line=29'>30</a>\u001b[0m \u001b[39mdef\u001b[39;00m \u001b[39mforward\u001b[39m(\u001b[39mself\u001b[39m, inputs: List[torch\u001b[39m.\u001b[39mTensor]):\n\u001b[1;32m     <a href='vscode-notebook-cell:/Users/tanxiaoxuan/reinforcement_learning/Reinforcement-Learning/MARL.ipynb#X10sZmlsZQ%3D%3D?line=30'>31</a>\u001b[0m     \u001b[39m# the networks can run in parallel\u001b[39;00m\n\u001b[0;32m---> <a href='vscode-notebook-cell:/Users/tanxiaoxuan/reinforcement_learning/Reinforcement-Learning/MARL.ipynb#X10sZmlsZQ%3D%3D?line=31'>32</a>\u001b[0m     futures \u001b[39m=\u001b[39m [torch\u001b[39m.\u001b[39;49mjit\u001b[39m.\u001b[39;49mfork(model, inputs[i]) \u001b[39mfor\u001b[39;00m i, model \u001b[39min\u001b[39;00m \u001b[39menumerate\u001b[39m(\u001b[39mself\u001b[39m\u001b[39m.\u001b[39mnetworks)]\n\u001b[1;32m     <a href='vscode-notebook-cell:/Users/tanxiaoxuan/reinforcement_learning/Reinforcement-Learning/MARL.ipynb#X10sZmlsZQ%3D%3D?line=32'>33</a>\u001b[0m     results \u001b[39m=\u001b[39m [torch\u001b[39m.\u001b[39mjit\u001b[39m.\u001b[39mwait(fut) \u001b[39mfor\u001b[39;00m fut \u001b[39min\u001b[39;00m futures]\n\u001b[1;32m     <a href='vscode-notebook-cell:/Users/tanxiaoxuan/reinforcement_learning/Reinforcement-Learning/MARL.ipynb#X10sZmlsZQ%3D%3D?line=33'>34</a>\u001b[0m     \u001b[39mreturn\u001b[39;00m results\n",
      "File \u001b[0;32m~/reinforcement_learning/RI_venv/lib/python3.10/site-packages/torch/jit/_async.py:84\u001b[0m, in \u001b[0;36mfork\u001b[0;34m(func, *args, **kwargs)\u001b[0m\n\u001b[1;32m     19\u001b[0m \u001b[39mdef\u001b[39;00m \u001b[39mfork\u001b[39m(func, \u001b[39m*\u001b[39margs, \u001b[39m*\u001b[39m\u001b[39m*\u001b[39mkwargs):\n\u001b[1;32m     20\u001b[0m \u001b[39m    \u001b[39m\u001b[39mr\u001b[39m\u001b[39m\"\"\"\u001b[39;00m\n\u001b[1;32m     21\u001b[0m \u001b[39m    Creates an asynchronous task executing `func` and a reference to the value\u001b[39;00m\n\u001b[1;32m     22\u001b[0m \u001b[39m    of the result of this execution. `fork` will return immediately,\u001b[39;00m\n\u001b[0;32m   (...)\u001b[0m\n\u001b[1;32m     82\u001b[0m \u001b[39m        assert mod(input) == torch.jit.script(mod).forward(input)\u001b[39;00m\n\u001b[1;32m     83\u001b[0m \u001b[39m    \"\"\"\u001b[39;00m\n\u001b[0;32m---> 84\u001b[0m     \u001b[39mreturn\u001b[39;00m torch\u001b[39m.\u001b[39;49m_C\u001b[39m.\u001b[39;49mfork(func, \u001b[39m*\u001b[39;49margs, \u001b[39m*\u001b[39;49m\u001b[39m*\u001b[39;49mkwargs)\n",
      "File \u001b[0;32m~/reinforcement_learning/RI_venv/lib/python3.10/site-packages/torch/nn/modules/module.py:1518\u001b[0m, in \u001b[0;36mModule._wrapped_call_impl\u001b[0;34m(self, *args, **kwargs)\u001b[0m\n\u001b[1;32m   1516\u001b[0m     \u001b[39mreturn\u001b[39;00m \u001b[39mself\u001b[39m\u001b[39m.\u001b[39m_compiled_call_impl(\u001b[39m*\u001b[39margs, \u001b[39m*\u001b[39m\u001b[39m*\u001b[39mkwargs)  \u001b[39m# type: ignore[misc]\u001b[39;00m\n\u001b[1;32m   1517\u001b[0m \u001b[39melse\u001b[39;00m:\n\u001b[0;32m-> 1518\u001b[0m     \u001b[39mreturn\u001b[39;00m \u001b[39mself\u001b[39;49m\u001b[39m.\u001b[39;49m_call_impl(\u001b[39m*\u001b[39;49margs, \u001b[39m*\u001b[39;49m\u001b[39m*\u001b[39;49mkwargs)\n",
      "File \u001b[0;32m~/reinforcement_learning/RI_venv/lib/python3.10/site-packages/torch/nn/modules/module.py:1527\u001b[0m, in \u001b[0;36mModule._call_impl\u001b[0;34m(self, *args, **kwargs)\u001b[0m\n\u001b[1;32m   1522\u001b[0m \u001b[39m# If we don't have any hooks, we want to skip the rest of the logic in\u001b[39;00m\n\u001b[1;32m   1523\u001b[0m \u001b[39m# this function, and just call forward.\u001b[39;00m\n\u001b[1;32m   1524\u001b[0m \u001b[39mif\u001b[39;00m \u001b[39mnot\u001b[39;00m (\u001b[39mself\u001b[39m\u001b[39m.\u001b[39m_backward_hooks \u001b[39mor\u001b[39;00m \u001b[39mself\u001b[39m\u001b[39m.\u001b[39m_backward_pre_hooks \u001b[39mor\u001b[39;00m \u001b[39mself\u001b[39m\u001b[39m.\u001b[39m_forward_hooks \u001b[39mor\u001b[39;00m \u001b[39mself\u001b[39m\u001b[39m.\u001b[39m_forward_pre_hooks\n\u001b[1;32m   1525\u001b[0m         \u001b[39mor\u001b[39;00m _global_backward_pre_hooks \u001b[39mor\u001b[39;00m _global_backward_hooks\n\u001b[1;32m   1526\u001b[0m         \u001b[39mor\u001b[39;00m _global_forward_hooks \u001b[39mor\u001b[39;00m _global_forward_pre_hooks):\n\u001b[0;32m-> 1527\u001b[0m     \u001b[39mreturn\u001b[39;00m forward_call(\u001b[39m*\u001b[39;49margs, \u001b[39m*\u001b[39;49m\u001b[39m*\u001b[39;49mkwargs)\n\u001b[1;32m   1529\u001b[0m \u001b[39mtry\u001b[39;00m:\n\u001b[1;32m   1530\u001b[0m     result \u001b[39m=\u001b[39m \u001b[39mNone\u001b[39;00m\n",
      "File \u001b[0;32m~/reinforcement_learning/RI_venv/lib/python3.10/site-packages/torch/nn/modules/container.py:215\u001b[0m, in \u001b[0;36mSequential.forward\u001b[0;34m(self, input)\u001b[0m\n\u001b[1;32m    213\u001b[0m \u001b[39mdef\u001b[39;00m \u001b[39mforward\u001b[39m(\u001b[39mself\u001b[39m, \u001b[39minput\u001b[39m):\n\u001b[1;32m    214\u001b[0m     \u001b[39mfor\u001b[39;00m module \u001b[39min\u001b[39;00m \u001b[39mself\u001b[39m:\n\u001b[0;32m--> 215\u001b[0m         \u001b[39minput\u001b[39m \u001b[39m=\u001b[39m module(\u001b[39minput\u001b[39;49m)\n\u001b[1;32m    216\u001b[0m     \u001b[39mreturn\u001b[39;00m \u001b[39minput\u001b[39m\n",
      "File \u001b[0;32m~/reinforcement_learning/RI_venv/lib/python3.10/site-packages/torch/nn/modules/module.py:1518\u001b[0m, in \u001b[0;36mModule._wrapped_call_impl\u001b[0;34m(self, *args, **kwargs)\u001b[0m\n\u001b[1;32m   1516\u001b[0m     \u001b[39mreturn\u001b[39;00m \u001b[39mself\u001b[39m\u001b[39m.\u001b[39m_compiled_call_impl(\u001b[39m*\u001b[39margs, \u001b[39m*\u001b[39m\u001b[39m*\u001b[39mkwargs)  \u001b[39m# type: ignore[misc]\u001b[39;00m\n\u001b[1;32m   1517\u001b[0m \u001b[39melse\u001b[39;00m:\n\u001b[0;32m-> 1518\u001b[0m     \u001b[39mreturn\u001b[39;00m \u001b[39mself\u001b[39;49m\u001b[39m.\u001b[39;49m_call_impl(\u001b[39m*\u001b[39;49margs, \u001b[39m*\u001b[39;49m\u001b[39m*\u001b[39;49mkwargs)\n",
      "File \u001b[0;32m~/reinforcement_learning/RI_venv/lib/python3.10/site-packages/torch/nn/modules/module.py:1527\u001b[0m, in \u001b[0;36mModule._call_impl\u001b[0;34m(self, *args, **kwargs)\u001b[0m\n\u001b[1;32m   1522\u001b[0m \u001b[39m# If we don't have any hooks, we want to skip the rest of the logic in\u001b[39;00m\n\u001b[1;32m   1523\u001b[0m \u001b[39m# this function, and just call forward.\u001b[39;00m\n\u001b[1;32m   1524\u001b[0m \u001b[39mif\u001b[39;00m \u001b[39mnot\u001b[39;00m (\u001b[39mself\u001b[39m\u001b[39m.\u001b[39m_backward_hooks \u001b[39mor\u001b[39;00m \u001b[39mself\u001b[39m\u001b[39m.\u001b[39m_backward_pre_hooks \u001b[39mor\u001b[39;00m \u001b[39mself\u001b[39m\u001b[39m.\u001b[39m_forward_hooks \u001b[39mor\u001b[39;00m \u001b[39mself\u001b[39m\u001b[39m.\u001b[39m_forward_pre_hooks\n\u001b[1;32m   1525\u001b[0m         \u001b[39mor\u001b[39;00m _global_backward_pre_hooks \u001b[39mor\u001b[39;00m _global_backward_hooks\n\u001b[1;32m   1526\u001b[0m         \u001b[39mor\u001b[39;00m _global_forward_hooks \u001b[39mor\u001b[39;00m _global_forward_pre_hooks):\n\u001b[0;32m-> 1527\u001b[0m     \u001b[39mreturn\u001b[39;00m forward_call(\u001b[39m*\u001b[39;49margs, \u001b[39m*\u001b[39;49m\u001b[39m*\u001b[39;49mkwargs)\n\u001b[1;32m   1529\u001b[0m \u001b[39mtry\u001b[39;00m:\n\u001b[1;32m   1530\u001b[0m     result \u001b[39m=\u001b[39m \u001b[39mNone\u001b[39;00m\n",
      "File \u001b[0;32m~/reinforcement_learning/RI_venv/lib/python3.10/site-packages/torch/nn/modules/linear.py:114\u001b[0m, in \u001b[0;36mLinear.forward\u001b[0;34m(self, input)\u001b[0m\n\u001b[1;32m    113\u001b[0m \u001b[39mdef\u001b[39;00m \u001b[39mforward\u001b[39m(\u001b[39mself\u001b[39m, \u001b[39minput\u001b[39m: Tensor) \u001b[39m-\u001b[39m\u001b[39m>\u001b[39m Tensor:\n\u001b[0;32m--> 114\u001b[0m     \u001b[39mreturn\u001b[39;00m F\u001b[39m.\u001b[39;49mlinear(\u001b[39minput\u001b[39;49m, \u001b[39mself\u001b[39;49m\u001b[39m.\u001b[39;49mweight, \u001b[39mself\u001b[39;49m\u001b[39m.\u001b[39;49mbias)\n",
      "\u001b[0;31mRuntimeError\u001b[0m: mat1 and mat2 must have the same dtype, but got Long and Float"
     ]
    }
   ],
   "source": [
    "# example of observaton of agent 2\n",
    "obs1 = torch.tensor([1, 0, 2, 3, 0])\n",
    "# example of observation of agent 1\n",
    "obs2 = torch.tensor([0, 0, 0, 3, 0])\n",
    "obs_sizes = (5, 5)\n",
    "\n",
    "# example of action of agent 1\n",
    "act1 = [0, 0, 1]  # one-hot encoded\n",
    "# example of action of agent 2\n",
    "act2 = [1, 0, 0]  # one-hot encoded\n",
    "action_sizes = (3, 3)\n",
    "\n",
    "model = MultiAgentFCNetwork(obs_sizes, action_sizes)\n",
    "model([obs1, obs2])"
   ]
  },
  {
   "cell_type": "code",
   "execution_count": null,
   "metadata": {},
   "outputs": [],
   "source": []
  }
 ],
 "metadata": {
  "kernelspec": {
   "display_name": "RI_venv",
   "language": "python",
   "name": "python3"
  },
  "language_info": {
   "codemirror_mode": {
    "name": "ipython",
    "version": 3
   },
   "file_extension": ".py",
   "mimetype": "text/x-python",
   "name": "python",
   "nbconvert_exporter": "python",
   "pygments_lexer": "ipython3",
   "version": "3.10.11"
  }
 },
 "nbformat": 4,
 "nbformat_minor": 2
}
