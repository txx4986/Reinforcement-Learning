{
 "cells": [
  {
   "cell_type": "markdown",
   "metadata": {},
   "source": [
    "# Simple Spread\n",
    "**Objectives**: The environment has N agents and N landmarks. Agents must learn to cover all the landmarks while avoiding collisions. All agents are globally rewarded based on how far the closest agents is to each landmark (sum of the minimum distances). The agents are penalised if they collide with other agents (-1 for each collision).\n",
    "\n",
    "**Actions**:\n",
    " - Agent observations: `[self_vel, self_pos, landmark_rel_positions, other_agent_rel_positions, communication]`\n",
    " - Agent action space: `[no_action, move_left, move_right, move_down, move_up]`"
   ]
  },
  {
   "cell_type": "code",
   "execution_count": 71,
   "metadata": {},
   "outputs": [],
   "source": [
    "from pettingzoo.mpe import simple_spread_v3\n",
    "num_agents = 3\n",
    "env = simple_spread_v3.env(\n",
    "    N=num_agents,\n",
    "    max_cycles=25,\n",
    "    local_ratio=0.5,\n",
    "    continuous_actions=False,\n",
    "    render_mode=\"rgb_array\"\n",
    ")"
   ]
  },
  {
   "cell_type": "code",
   "execution_count": 72,
   "metadata": {},
   "outputs": [
    {
     "data": {
      "text/plain": [
       "['agent_0', 'agent_1', 'agent_2']"
      ]
     },
     "execution_count": 72,
     "metadata": {},
     "output_type": "execute_result"
    }
   ],
   "source": [
    "env.reset()\n",
    "env.agents"
   ]
  },
  {
   "cell_type": "code",
   "execution_count": 73,
   "metadata": {},
   "outputs": [
    {
     "name": "stdout",
     "output_type": "stream",
     "text": [
      "agent_0 Box(-inf, inf, (18,), float32)\n",
      "agent_1 Box(-inf, inf, (18,), float32)\n",
      "agent_2 Box(-inf, inf, (18,), float32)\n"
     ]
    }
   ],
   "source": [
    "for agent in env.agents:\n",
    "    print(agent, env.observation_space(agent))"
   ]
  },
  {
   "cell_type": "code",
   "execution_count": 74,
   "metadata": {},
   "outputs": [
    {
     "name": "stdout",
     "output_type": "stream",
     "text": [
      "agent_0 Discrete(5)\n",
      "agent_1 Discrete(5)\n",
      "agent_2 Discrete(5)\n"
     ]
    }
   ],
   "source": [
    "for agent in env.agents:\n",
    "    print(agent, env.action_space(agent))"
   ]
  },
  {
   "cell_type": "code",
   "execution_count": 75,
   "metadata": {},
   "outputs": [],
   "source": [
    "env = simple_spread_v3.parallel_env(\n",
    "    N=num_agents,\n",
    "    max_cycles=25,\n",
    "    local_ratio=0.5,\n",
    "    continuous_actions=True,\n",
    "    render_mode=None\n",
    ")"
   ]
  },
  {
   "cell_type": "code",
   "execution_count": 76,
   "metadata": {},
   "outputs": [
    {
     "data": {
      "text/plain": [
       "({'agent_0': array([ 0.        ,  0.        , -0.49659082,  0.19935773,  1.4552721 ,\n",
       "          0.21039093, -0.20550542,  0.11756655,  0.05244255,  0.35620427,\n",
       "         -0.05508013, -0.40189353,  0.48561892, -0.5094123 ,  0.        ,\n",
       "          0.        ,  0.        ,  0.        ], dtype=float32),\n",
       "  'agent_1': array([ 0.        ,  0.        , -0.55167097, -0.20253578,  1.5103523 ,\n",
       "          0.6122844 , -0.15042529,  0.5194601 ,  0.10752268,  0.75809777,\n",
       "          0.05508013,  0.40189353,  0.54069906, -0.10751877,  0.        ,\n",
       "          0.        ,  0.        ,  0.        ], dtype=float32),\n",
       "  'agent_2': array([ 0.        ,  0.        , -0.01097191, -0.31005454,  0.96965325,\n",
       "          0.7198032 , -0.6911243 ,  0.6269788 , -0.43317637,  0.86561656,\n",
       "         -0.48561892,  0.5094123 , -0.54069906,  0.10751877,  0.        ,\n",
       "          0.        ,  0.        ,  0.        ], dtype=float32)},\n",
       " {'agent_0': {}, 'agent_1': {}, 'agent_2': {}})"
      ]
     },
     "execution_count": 76,
     "metadata": {},
     "output_type": "execute_result"
    }
   ],
   "source": [
    "env.reset()"
   ]
  },
  {
   "cell_type": "code",
   "execution_count": 77,
   "metadata": {},
   "outputs": [
    {
     "data": {
      "text/plain": [
       "{'agent_0': array([0.05733168, 0.46264973, 0.07368609, 0.1554525 , 0.33114856],\n",
       "       dtype=float32),\n",
       " 'agent_1': array([0.9906404 , 0.9407897 , 0.89461094, 0.07858131, 0.34973288],\n",
       "       dtype=float32),\n",
       " 'agent_2': array([0.16457124, 0.35037655, 0.998845  , 0.6019372 , 0.5196411 ],\n",
       "       dtype=float32)}"
      ]
     },
     "execution_count": 77,
     "metadata": {},
     "output_type": "execute_result"
    }
   ],
   "source": [
    "env.agents\n",
    "actions_dict = {agent: env.action_space(agent).sample() for agent in env.agents}\n",
    "actions_dict"
   ]
  },
  {
   "cell_type": "code",
   "execution_count": 78,
   "metadata": {},
   "outputs": [
    {
     "data": {
      "text/plain": [
       "defaultdict(int,\n",
       "            {'agent_0': -0.9022106151973255,\n",
       "             'agent_1': -0.9022106151973255,\n",
       "             'agent_2': -0.9022106151973255})"
      ]
     },
     "execution_count": 78,
     "metadata": {},
     "output_type": "execute_result"
    }
   ],
   "source": [
    "observations, rewards, term, trunc, info = env.step(actions_dict)\n",
    "rewards"
   ]
  },
  {
   "cell_type": "code",
   "execution_count": 79,
   "metadata": {},
   "outputs": [
    {
     "name": "stdout",
     "output_type": "stream",
     "text": [
      "<class 'numpy.ndarray'> (3, 18)\n"
     ]
    }
   ],
   "source": [
    "import supersuit as ss\n",
    "env = ss.pettingzoo_env_to_vec_env_v1(env)\n",
    "observations = env.reset()[0]\n",
    "print(type(observations), observations.shape)"
   ]
  },
  {
   "cell_type": "code",
   "execution_count": 80,
   "metadata": {},
   "outputs": [
    {
     "data": {
      "text/plain": [
       "3"
      ]
     },
     "execution_count": 80,
     "metadata": {},
     "output_type": "execute_result"
    }
   ],
   "source": [
    "env.num_envs"
   ]
  },
  {
   "cell_type": "code",
   "execution_count": 81,
   "metadata": {},
   "outputs": [
    {
     "name": "stdout",
     "output_type": "stream",
     "text": [
      "Using cpu device\n",
      "Wrapping the env with a `Monitor` wrapper\n",
      "Wrapping the env in a DummyVecEnv.\n"
     ]
    }
   ],
   "source": [
    "from stable_baselines3 import DDPG\n",
    "model = DDPG(\"MlpPolicy\", env, verbose=3, learning_rate=1e-3, batch_size=256, gamma=0.95, train_freq=256*25, \n",
    "             policy_kwargs={\"net_arch\": [128, 128]})"
   ]
  },
  {
   "cell_type": "code",
   "execution_count": 82,
   "metadata": {},
   "outputs": [],
   "source": [
    "import torch as th\n",
    "import numpy as np\n",
    "def policy(observation, agent, action_space):\n",
    "    with th.no_grad():\n",
    "        action = model.policy(th.tensor(observation[None, :]), deterministic=True)\n",
    "    action = action.numpy()[0]\n",
    "    return np.clip(action, action_space.low, action_space.high)"
   ]
  },
  {
   "cell_type": "code",
   "execution_count": 83,
   "metadata": {},
   "outputs": [],
   "source": [
    "eval_env = simple_spread_v3.env(\n",
    "    N=num_agents,\n",
    "    max_cycles=25,\n",
    "    local_ratio=0.5,\n",
    "    continuous_actions=True,\n",
    "    render_mode=\"rgb_array\"\n",
    ")\n",
    "\n",
    "seed = 1"
   ]
  },
  {
   "cell_type": "code",
   "execution_count": 84,
   "metadata": {},
   "outputs": [
    {
     "data": {
      "image/png": "[encoded data removed]",
      "text/plain": [
       "<Figure size 640x480 with 1 Axes>"
      ]
     },
     "metadata": {},
     "output_type": "display_data"
    },
    {
     "name": "stdout",
     "output_type": "stream",
     "text": [
      "-35.11841194162657\n"
     ]
    }
   ],
   "source": [
    "import matplotlib.pyplot as plt\n",
    "from IPython.display import clear_output\n",
    "fig, ax = plt.subplots(figsize=(5, 5))\n",
    "ep_rewards = []\n",
    "num_episodes = 1\n",
    "for ep in range(num_episodes):\n",
    "    eval_env.reset(seed=seed)\n",
    "    total_reward = {agent: 0 for agent in eval_env.agents}\n",
    "    for agent in eval_env.agent_iter():\n",
    "        observation, reward, termination, trunc, info = eval_env.last()\n",
    "        total_reward[agent] += reward\n",
    "        if (termination or trunc):\n",
    "            ep_rewards.append(total_reward[agent])\n",
    "            action = None\n",
    "        else:\n",
    "            action = policy(observation, agent, env.action_space)\n",
    "        eval_env.step(action)\n",
    "        img = eval_env.render()\n",
    "        plt.imshow(img)\n",
    "        clear_output(wait=True)\n",
    "        plt.pause(0.1)\n",
    "\n",
    "print(np.mean(ep_rewards))"
   ]
  },
  {
   "cell_type": "code",
   "execution_count": null,
   "metadata": {},
   "outputs": [],
   "source": []
  }
 ],
 "metadata": {
  "kernelspec": {
   "display_name": "RI_venv",
   "language": "python",
   "name": "python3"
  },
  "language_info": {
   "codemirror_mode": {
    "name": "ipython",
    "version": 3
   },
   "file_extension": ".py",
   "mimetype": "text/x-python",
   "name": "python",
   "nbconvert_exporter": "python",
   "pygments_lexer": "ipython3",
   "version": "3.10.11"
  }
 },
 "nbformat": 4,
 "nbformat_minor": 2
}
