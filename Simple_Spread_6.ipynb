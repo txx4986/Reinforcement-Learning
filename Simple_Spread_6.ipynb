{
 "cells": [
  {
   "cell_type": "markdown",
   "metadata": {},
   "source": [
    "# Simple Spread\n",
    "**Objectives**: The environment has N agents and N landmarks. Agents must learn to cover all the landmarks while avoiding collisions. All agents are globally rewarded based on how far the closest agents is to each landmark (sum of the minimum distances). The agents are penalised if they collide with other agents (-1 for each collision).\n",
    "\n",
    "**Actions**:\n",
    " - Agent observations: `[self_vel, self_pos, landmark_rel_positions, other_agent_rel_positions, communication]`\n",
    " - Agent action space: `[no_action, move_left, move_right, move_down, move_up]`"
   ]
  },
  {
   "cell_type": "code",
   "execution_count": 435,
   "metadata": {},
   "outputs": [],
   "source": [
    "import argparse\n",
    "import os\n",
    "from copy import deepcopy\n",
    "from typing import Optional, Tuple\n",
    "\n",
    "import gymnasium as gym\n",
    "import numpy as np\n",
    "import torch\n",
    "from pettingzoo.mpe import simple_spread_v3\n",
    "from torch.utils.tensorboard import SummaryWriter\n",
    "\n",
    "from tianshou.data import Collector, VectorReplayBuffer\n",
    "from tianshou.env import DummyVectorEnv\n",
    "from tianshou.env.pettingzoo_env import PettingZooEnv\n",
    "from tianshou.policy import BasePolicy, RandomPolicy, DQNPolicy, MultiAgentPolicyManager\n",
    "from tianshou.trainer import OffpolicyTrainer\n",
    "from tianshou.utils import TensorboardLogger\n",
    "from tianshou.utils.net.common import Net\n",
    "\n",
    "import pygame\n",
    "import imageio\n",
    "import matplotlib.pyplot as plt"
   ]
  },
  {
   "cell_type": "markdown",
   "metadata": {},
   "source": [
    "We apply Random Policy to each of the agents."
   ]
  },
  {
   "cell_type": "code",
   "execution_count": 17,
   "metadata": {},
   "outputs": [],
   "source": [
    "num_agents=3\n",
    "# Initialize Pygame\n",
    "pygame.init()\n",
    "\n",
    "# Set up Pygame window and clock\n",
    "width, height = 800, 800\n",
    "screen = pygame.display.set_mode((width, height))\n",
    "clock = pygame.time.Clock()\n",
    "\n",
    "# Your Pygame application logic goes here\n",
    "test_env = simple_spread_v3.env(N=num_agents, max_cycles=50, local_ratio=0.5, continuous_actions=False,render_mode=\"human\")\n",
    "test_env.reset(seed=42)\n",
    "test_env = PettingZooEnv(test_env)\n",
    "random_policy = RandomPolicy(test_env.observation_space, test_env.action_space)\n",
    "policy = MultiAgentPolicyManager([random_policy, random_policy, random_policy], test_env)\n",
    "test_env = DummyVectorEnv([lambda: test_env])\n",
    "collector = Collector(policy, test_env)\n",
    "\n",
    "# Specify the path to save the GIF\n",
    "output_gif_path = \"random.gif\"\n",
    "\n",
    "# Set the number of frames to capture\n",
    "num_frames = 50\n",
    "\n",
    "# Create an ImageIO writer\n",
    "imageio_writer = imageio.get_writer(output_gif_path, duration=0.5)\n",
    "\n",
    "# Collect frames and save as a GIF\n",
    "for _ in range(num_frames):\n",
    "    # Collect a step\n",
    "    result = collector.collect(n_step=3, render=0.1)\n",
    "\n",
    "    # Capture the Pygame window as an image\n",
    "    pygame_screen = pygame.display.get_surface()\n",
    "    pygame_surface = pygame.surfarray.array3d(pygame_screen)\n",
    "    imageio_frame = pygame.surfarray.make_surface(pygame_surface).convert_alpha()\n",
    "\n",
    "    # Append the frame to the ImageIO writer\n",
    "    imageio_writer.append_data(pygame.surfarray.array3d(imageio_frame))\n",
    "\n",
    "    # Update the Pygame display\n",
    "    pygame.display.flip()\n",
    "\n",
    "    # Control the frame rate\n",
    "    clock.tick(10)\n",
    "\n",
    "# Close the ImageIO writer\n",
    "imageio_writer.close()\n",
    "\n",
    "# Quit Pygame\n",
    "pygame.quit()"
   ]
  },
  {
   "cell_type": "code",
   "execution_count": 22,
   "metadata": {},
   "outputs": [
    {
     "data": {
      "text/plain": [
       "-73.45369820013003"
      ]
     },
     "execution_count": 22,
     "metadata": {},
     "output_type": "execute_result"
    }
   ],
   "source": [
    "result[\"rews\"].mean()"
   ]
  },
  {
   "cell_type": "code",
   "execution_count": 25,
   "metadata": {},
   "outputs": [],
   "source": [
    "mean_reward = []\n",
    "for _ in range(100):  \n",
    "    test_env = simple_spread_v3.env(N=num_agents, max_cycles=50, local_ratio=0.5, continuous_actions=False,render_mode=\"human\")\n",
    "    test_env.reset(seed=42)\n",
    "    test_env = PettingZooEnv(test_env)\n",
    "    random_policy = RandomPolicy(test_env.observation_space, test_env.action_space)\n",
    "    policy = MultiAgentPolicyManager([random_policy, random_policy, random_policy], test_env)\n",
    "    test_env = DummyVectorEnv([lambda: test_env])\n",
    "    collector = Collector(policy, test_env)\n",
    "    result = collector.collect(n_episode=1, render=0.01)\n",
    "    mean_reward.append(result[\"rews\"].mean())"
   ]
  },
  {
   "cell_type": "code",
   "execution_count": 29,
   "metadata": {},
   "outputs": [
    {
     "data": {
      "text/plain": [
       "-62.08552250741849"
      ]
     },
     "execution_count": 29,
     "metadata": {},
     "output_type": "execute_result"
    }
   ],
   "source": [
    "sum(mean_reward)/100"
   ]
  },
  {
   "cell_type": "code",
   "execution_count": 399,
   "metadata": {},
   "outputs": [],
   "source": [
    "def get_env(render_mode=None):\n",
    "    \"\"\"This functions is needed to provide callables for DummyVectorEnv\"\"\"\n",
    "    return PettingZooEnv(simple_spread_v3.env(N=num_agents, max_cycles=50, local_ratio=0.5, continuous_actions=False,\n",
    "                                              render_mode=\"rgb_array\"))"
   ]
  },
  {
   "cell_type": "code",
   "execution_count": 400,
   "metadata": {},
   "outputs": [],
   "source": [
    "def get_parser() -> argparse.ArgumentParser:\n",
    "    parser = argparse.ArgumentParser()\n",
    "    parser.add_argument('--seed', type=int, default=1626)\n",
    "    parser.add_argument('--eps-test', type=float, default=0)\n",
    "    parser.add_argument('--eps-train-start', type=float, default=1)\n",
    "    parser.add_argument('--eps-train-final', type=float, default=0.01)\n",
    "    parser.add_argument('--eps-decay', type=float, default=1e-6)\n",
    "    parser.add_argument('--buffer-size', type=int, default=20000)\n",
    "    parser.add_argument('--lr', type=float, default=1e-4)\n",
    "    parser.add_argument('--gamma', type=float, default=0.99, help='a smaller gamma favors earlier win')\n",
    "    parser.add_argument('--n-step', type=int, default=1)\n",
    "    parser.add_argument('--target-update-freq', type=int, default=320)\n",
    "    parser.add_argument('--epoch', type=int, default=50)\n",
    "    parser.add_argument('--step-per-epoch', type=int, default=9600)\n",
    "    parser.add_argument('--step-per-collect', type=int, default=10)\n",
    "    parser.add_argument('--update-per-step', type=float, default=0.1)\n",
    "    parser.add_argument('--batch-size', type=int, default=64)\n",
    "    parser.add_argument('--hidden-sizes', type=int, nargs='*', default=[128, 128, 128, 128])\n",
    "    parser.add_argument('--training-num', type=int, default=64)\n",
    "    parser.add_argument('--test-num', type=int, default=10)\n",
    "    parser.add_argument('--logdir', type=str, default='log')\n",
    "    parser.add_argument('--render', type=float, default=0.1)\n",
    "    parser.add_argument('--win-rate', type=float, default=0)\n",
    "    parser.add_argument('--watch', default=False, action='store_true', help='no training, watch the play of pre-trained models')\n",
    "    parser.add_argument('--agent-id', type=int, default=2)\n",
    "    parser.add_argument('--resume-path-0', type=str, default='', help='the path of agent pth file for resuming from a pre-trained agent 0')\n",
    "    parser.add_argument('--resume-path-1', type=str, default='', help='the path of agent pth file for resuming from a pre-trained agent 1')\n",
    "    parser.add_argument('--resume-path-2', type=str, default='', help='the path of agent pth file for resuming from a pre-trained agent 2')\n",
    "    parser.add_argument('--device', type=str, default='cuda' if torch.cuda.is_available() else 'cpu')\n",
    "    return parser\n",
    "\n",
    "def get_args() -> argparse.Namespace:\n",
    "    parser = get_parser()\n",
    "    return parser.parse_known_args()[0]"
   ]
  },
  {
   "cell_type": "code",
   "execution_count": 401,
   "metadata": {},
   "outputs": [],
   "source": [
    "def get_agents(\n",
    "        args: argparse.Namespace = get_args(),\n",
    "        agent_0: Optional[BasePolicy] = None,\n",
    "        agent_1: Optional[BasePolicy] = None,\n",
    "        agent_2: Optional[BasePolicy] = None,\n",
    "        optim: Optional[torch.optim.Optimizer] = None\n",
    ") -> Tuple[BasePolicy, torch.optim.Optimizer, list]:\n",
    "    env = get_env()\n",
    "    observation_space = env.observation_space['observation'] if isinstance(env.observation_space, gym.spaces.Dict) else env.observation_space\n",
    "    args.state_shape = observation_space.shape or observation_space.n\n",
    "    args.action_shape = env.action_space.shape or env.action_space.n\n",
    "    if agent_0 is None:\n",
    "        # model\n",
    "        net = Net(\n",
    "            args.state_shape,\n",
    "            args.action_shape,\n",
    "            hidden_sizes=args.hidden_sizes,\n",
    "            device=args.device\n",
    "        ).to(args.device)\n",
    "        if optim is None:\n",
    "            optim = torch.optim.Adam(net.parameters(), lr=args.lr)\n",
    "        agent_0 = DQNPolicy(\n",
    "            model=net,\n",
    "            optim=optim,\n",
    "            discount_factor=args.gamma,\n",
    "            action_space=env.action_space,\n",
    "            estimation_step=args.n_step,\n",
    "            target_update_freq=args.target_update_freq\n",
    "        )\n",
    "        if args.resume_path_0:\n",
    "            agent_0.load_state_dict(torch.load(args.resume_path_0))\n",
    "\n",
    "    if agent_1 is None:\n",
    "        # model\n",
    "        net = Net(\n",
    "            args.state_shape,\n",
    "            args.action_shape,\n",
    "            hidden_sizes=args.hidden_sizes,\n",
    "            device=args.device\n",
    "        ).to(args.device)\n",
    "        if optim is None:\n",
    "            optim = torch.optim.Adam(net.parameters(), lr=args.lr)\n",
    "        agent_1 = DQNPolicy(\n",
    "            model=net,\n",
    "            optim=optim,\n",
    "            discount_factor=args.gamma,\n",
    "            action_space=env.action_space,\n",
    "            estimation_step=args.n_step,\n",
    "            target_update_freq=args.target_update_freq\n",
    "        )\n",
    "        if args.resume_path_1:\n",
    "            agent_1.load_state_dict(torch.load(args.resume_path_1))\n",
    "    \n",
    "    if agent_2 is None:\n",
    "        # model\n",
    "        net = Net(\n",
    "            args.state_shape,\n",
    "            args.action_shape,\n",
    "            hidden_sizes=args.hidden_sizes,\n",
    "            device=args.device\n",
    "        ).to(args.device)\n",
    "        if optim is None:\n",
    "            optim = torch.optim.Adam(net.parameters(), lr=args.lr)\n",
    "        agent_2 = DQNPolicy(\n",
    "            model=net,\n",
    "            optim=optim,\n",
    "            discount_factor=args.gamma,\n",
    "            action_space=env.action_space,\n",
    "            estimation_step=args.n_step,\n",
    "            target_update_freq=args.target_update_freq\n",
    "        )\n",
    "        if args.resume_path_2:\n",
    "            agent_2.load_state_dict(torch.load(args.resume_path_2))\n",
    "    \n",
    "    agents = [agent_0, agent_1, agent_2]\n",
    "    policy = MultiAgentPolicyManager(agents, env)\n",
    "    return policy, optim, env.agents"
   ]
  },
  {
   "cell_type": "code",
   "execution_count": 402,
   "metadata": {},
   "outputs": [],
   "source": [
    "def train_agent(\n",
    "        args: argparse.Namespace = get_args(),\n",
    "        agent_0: Optional[BasePolicy] = None,\n",
    "        agent_1: Optional[BasePolicy] = None,\n",
    "        agent_2: Optional[BasePolicy] = None,\n",
    "        optim: Optional[torch.optim.Optimizer] = None\n",
    ") -> Tuple[dict, BasePolicy]:\n",
    "    \n",
    "    # ======== environment setup ========\n",
    "    train_envs = DummyVectorEnv([get_env for _ in range(args.training_num)])\n",
    "    test_envs = DummyVectorEnv([get_env for _ in range(args.test_num)])\n",
    "    # seed\n",
    "    np.random.seed(args.seed)\n",
    "    torch.manual_seed(args.seed)\n",
    "    train_envs.seed(args.seed)\n",
    "    test_envs.seed(args.seed)\n",
    "\n",
    "    # ======== agent setup ========\n",
    "    policy, optim, agents = get_agents(args, agent_0=agent_0, agent_1=agent_1, agent_2=agent_2, optim=optim)\n",
    "\n",
    "    # ======== collector setup ========\n",
    "    train_collector = Collector(\n",
    "        policy,\n",
    "        train_envs,\n",
    "        VectorReplayBuffer(args.buffer_size, len(train_envs)),\n",
    "        exploration_noise=True\n",
    "    )\n",
    "    test_collector = Collector(policy, test_envs, exploration_noise=True)\n",
    "    # policy.set_eps(1)\n",
    "    train_collector.collect(n_step=args.batch_size * args.training_num)\n",
    "\n",
    "    # ======== tensorboard logging setup ========\n",
    "    log_path = os.path.join(args.logdir, 'simple_spread', 'dqn')\n",
    "    writer = SummaryWriter(log_path)\n",
    "    writer.add_text(\"args\", str(args))\n",
    "    logger = TensorboardLogger(writer)\n",
    "\n",
    "    # ======== callback functions used during training ========\n",
    "    def save_best_fn(policy):\n",
    "        if hasattr(args, 'model_save_path'):\n",
    "            model_save_path = args.model_save_path\n",
    "        else:\n",
    "            model_save_path = os.path.join(args.logdir, 'simple_spread', 'dqn', 'policy.pth')\n",
    "            torch.save(policy.policies[agents[args.agent_id - 1]].state_dict(), model_save_path)\n",
    "    \n",
    "    def stop_fn(mean_rewards):\n",
    "        return mean_rewards >= args.win_rate\n",
    "    \n",
    "    def train_fn(epoch, env_step):\n",
    "        eps = max(args.eps_train_final, args.eps_train_start - env_step / args.eps_decay * (args.eps_train_start - args.eps_train_final))    \n",
    "        policy.policies[agents[args.agent_id - 2]].set_eps(eps)\n",
    "        policy.policies[agents[args.agent_id - 1]].set_eps(eps)\n",
    "        policy.policies[agents[args.agent_id]].set_eps(eps)\n",
    "    \n",
    "    def test_fn(epoch, env_step):\n",
    "        policy.policies[agents[args.agent_id - 2]].set_eps(args.eps_test)\n",
    "        policy.policies[agents[args.agent_id - 1]].set_eps(args.eps_test)\n",
    "        policy.policies[agents[args.agent_id]].set_eps(args.eps_test)\n",
    "    \n",
    "    def reward_metric(rews):\n",
    "        return np.mean(rews, axis=1)\n",
    "    \n",
    "    # trainer\n",
    "    result = OffpolicyTrainer(\n",
    "        policy,\n",
    "        train_collector,\n",
    "        test_collector,\n",
    "        args.epoch,\n",
    "        args.step_per_epoch,\n",
    "        args.step_per_collect,\n",
    "        args.test_num,\n",
    "        args.batch_size,\n",
    "        train_fn=train_fn,\n",
    "        test_fn=test_fn,\n",
    "        stop_fn=stop_fn,\n",
    "        save_best_fn=save_best_fn,\n",
    "        update_per_step=args.update_per_step,\n",
    "        logger=logger,\n",
    "        test_in_train=False,\n",
    "        reward_metric=reward_metric\n",
    "    ).run()\n",
    "\n",
    "    return result, policy.policies[agents[args.agent_id - 2]], policy.policies[agents[args.agent_id - 1]], policy.policies[agents[args.agent_id]]"
   ]
  },
  {
   "cell_type": "code",
   "execution_count": 403,
   "metadata": {},
   "outputs": [],
   "source": [
    "def watch(\n",
    "        args: argparse.Namespace = get_args(),\n",
    "        agent_0: Optional[BasePolicy] = None,\n",
    "        agent_1: Optional[BasePolicy] = None,\n",
    "        agent_2: Optional[BasePolicy] = None\n",
    ") -> None:\n",
    "    env = simple_spread_v3.env(N=num_agents, max_cycles=50, local_ratio=0.5, continuous_actions=False,render_mode=\"human\")\n",
    "    env.reset(seed=42)\n",
    "    env = PettingZooEnv(env)\n",
    "    env = DummyVectorEnv([lambda: env])\n",
    "    policy, optim, agents = get_agents(args, agent_0=agent_0, agent_1=agent_1, agent_2=agent_2)\n",
    "    policy.eval()\n",
    "    policy.policies[agents[args.agent_id - 2]].set_eps(args.eps_test)\n",
    "    policy.policies[agents[args.agent_id - 1]].set_eps(args.eps_test)\n",
    "    policy.policies[agents[args.agent_id]].set_eps(args.eps_test)\n",
    "    collector = Collector(policy, env, exploration_noise=True)\n",
    "    result = collector.collect(n_episode=1, render=args.render)\n",
    "    rews, lens = result[\"rews\"], result[\"lens\"]\n",
    "    print(f\"Final reward: {rews.mean()}, length: {lens.mean()}\")"
   ]
  },
  {
   "cell_type": "code",
   "execution_count": 404,
   "metadata": {},
   "outputs": [
    {
     "name": "stderr",
     "output_type": "stream",
     "text": [
      "Epoch #1:   0%|          | 0/9600 [00:00<?, ?it/s]/Users/tanxiaoxuan/reinforcement_learning/RI_venv/lib/python3.10/site-packages/tianshou/data/collector.py:236: UserWarning: n_step=10 is not a multiple of #env (64), which may cause extra transitions collected into the buffer.\n",
      "  warnings.warn(\n",
      "Epoch #1: 9601it [00:13, 712.84it/s, agent_0/loss=0.000, agent_1/loss=0.002, agent_2/loss=5.586, env_step=9600, len=150, n/ep=0, n/st=64, rew=-104.18]                           \n"
     ]
    },
    {
     "name": "stdout",
     "output_type": "stream",
     "text": [
      "Epoch #1: test_reward: -81.733704 ± 40.012621, best_reward: -81.733704 ± 40.012621 in #1\n"
     ]
    },
    {
     "name": "stderr",
     "output_type": "stream",
     "text": [
      "Epoch #2: 9601it [00:12, 759.34it/s, agent_0/loss=0.000, agent_1/loss=0.002, agent_2/loss=5.800, env_step=19200, len=150, n/ep=0, n/st=64, rew=-99.36]                           \n"
     ]
    },
    {
     "name": "stdout",
     "output_type": "stream",
     "text": [
      "Epoch #2: test_reward: -98.009469 ± 22.727112, best_reward: -81.733704 ± 40.012621 in #1\n"
     ]
    },
    {
     "name": "stderr",
     "output_type": "stream",
     "text": [
      "Epoch #3: 9601it [00:12, 757.72it/s, agent_0/loss=0.000, agent_1/loss=0.002, agent_2/loss=5.134, env_step=28800, len=150, n/ep=0, n/st=64, rew=-96.07]                           \n"
     ]
    },
    {
     "name": "stdout",
     "output_type": "stream",
     "text": [
      "Epoch #3: test_reward: -78.470949 ± 21.796519, best_reward: -78.470949 ± 21.796519 in #3\n"
     ]
    },
    {
     "name": "stderr",
     "output_type": "stream",
     "text": [
      "Epoch #4: 9601it [00:14, 658.18it/s, agent_0/loss=0.000, agent_1/loss=0.002, agent_2/loss=4.212, env_step=38400, len=150, n/ep=0, n/st=64, rew=-87.23]                           \n"
     ]
    },
    {
     "name": "stdout",
     "output_type": "stream",
     "text": [
      "Epoch #4: test_reward: -95.426456 ± 33.514452, best_reward: -78.470949 ± 21.796519 in #3\n"
     ]
    },
    {
     "name": "stderr",
     "output_type": "stream",
     "text": [
      "Epoch #5: 9601it [00:17, 533.95it/s, agent_0/loss=0.000, agent_1/loss=0.002, agent_2/loss=4.643, env_step=48000, len=150, n/ep=0, n/st=64, rew=-99.56]                           \n"
     ]
    },
    {
     "name": "stdout",
     "output_type": "stream",
     "text": [
      "Epoch #5: test_reward: -88.530980 ± 25.225684, best_reward: -78.470949 ± 21.796519 in #3\n"
     ]
    },
    {
     "name": "stderr",
     "output_type": "stream",
     "text": [
      "Epoch #6: 9601it [00:21, 436.80it/s, agent_0/loss=0.000, agent_1/loss=0.002, agent_2/loss=4.675, env_step=57600, len=150, n/ep=0, n/st=64, rew=-84.81]                           \n"
     ]
    },
    {
     "name": "stdout",
     "output_type": "stream",
     "text": [
      "Epoch #6: test_reward: -80.527621 ± 16.537348, best_reward: -78.470949 ± 21.796519 in #3\n"
     ]
    },
    {
     "name": "stderr",
     "output_type": "stream",
     "text": [
      "Epoch #7: 9601it [00:19, 481.97it/s, agent_0/loss=0.000, agent_1/loss=0.002, agent_2/loss=3.771, env_step=67200, len=150, n/ep=0, n/st=64, rew=-86.60]                           \n"
     ]
    },
    {
     "name": "stdout",
     "output_type": "stream",
     "text": [
      "Epoch #7: test_reward: -94.361873 ± 20.703100, best_reward: -78.470949 ± 21.796519 in #3\n"
     ]
    },
    {
     "name": "stderr",
     "output_type": "stream",
     "text": [
      "Epoch #8: 9601it [00:15, 606.01it/s, agent_0/loss=0.000, agent_1/loss=0.002, agent_2/loss=3.821, env_step=76800, len=150, n/ep=0, n/st=64, rew=-89.77]                           \n"
     ]
    },
    {
     "name": "stdout",
     "output_type": "stream",
     "text": [
      "Epoch #8: test_reward: -81.502620 ± 17.211774, best_reward: -78.470949 ± 21.796519 in #3\n"
     ]
    },
    {
     "name": "stderr",
     "output_type": "stream",
     "text": [
      "Epoch #9: 9601it [00:17, 533.60it/s, agent_0/loss=0.000, agent_1/loss=0.002, agent_2/loss=3.787, env_step=86400, len=150, n/ep=0, n/st=64, rew=-82.03]                           \n"
     ]
    },
    {
     "name": "stdout",
     "output_type": "stream",
     "text": [
      "Epoch #9: test_reward: -85.917755 ± 40.685852, best_reward: -78.470949 ± 21.796519 in #3\n"
     ]
    },
    {
     "name": "stderr",
     "output_type": "stream",
     "text": [
      "Epoch #10: 9601it [00:15, 615.40it/s, agent_0/loss=0.000, agent_1/loss=0.002, agent_2/loss=3.861, env_step=96000, len=150, n/ep=0, n/st=64, rew=-84.20]                           \n"
     ]
    },
    {
     "name": "stdout",
     "output_type": "stream",
     "text": [
      "Epoch #10: test_reward: -88.610570 ± 44.200864, best_reward: -78.470949 ± 21.796519 in #3\n"
     ]
    },
    {
     "name": "stderr",
     "output_type": "stream",
     "text": [
      "Epoch #11: 9601it [00:16, 590.27it/s, agent_0/loss=0.000, agent_1/loss=0.002, agent_2/loss=3.280, env_step=105600, len=150, n/ep=0, n/st=64, rew=-82.28]                           \n"
     ]
    },
    {
     "name": "stdout",
     "output_type": "stream",
     "text": [
      "Epoch #11: test_reward: -83.116995 ± 21.541761, best_reward: -78.470949 ± 21.796519 in #3\n"
     ]
    },
    {
     "name": "stderr",
     "output_type": "stream",
     "text": [
      "Epoch #12: 9601it [00:16, 576.89it/s, agent_0/loss=0.000, agent_1/loss=0.001, agent_2/loss=3.481, env_step=115200, len=150, n/ep=0, n/st=64, rew=-86.57]                           \n"
     ]
    },
    {
     "name": "stdout",
     "output_type": "stream",
     "text": [
      "Epoch #12: test_reward: -87.600386 ± 35.860395, best_reward: -78.470949 ± 21.796519 in #3\n"
     ]
    },
    {
     "name": "stderr",
     "output_type": "stream",
     "text": [
      "Epoch #13: 9601it [00:15, 626.97it/s, agent_0/loss=0.000, agent_1/loss=0.001, agent_2/loss=3.530, env_step=124800, len=150, n/ep=0, n/st=64, rew=-82.62]                           \n"
     ]
    },
    {
     "name": "stdout",
     "output_type": "stream",
     "text": [
      "Epoch #13: test_reward: -87.148238 ± 57.860797, best_reward: -78.470949 ± 21.796519 in #3\n"
     ]
    },
    {
     "name": "stderr",
     "output_type": "stream",
     "text": [
      "Epoch #14: 9601it [00:15, 611.88it/s, agent_0/loss=0.000, agent_1/loss=0.001, agent_2/loss=3.320, env_step=134400, len=150, n/ep=0, n/st=64, rew=-83.82]                           \n"
     ]
    },
    {
     "name": "stdout",
     "output_type": "stream",
     "text": [
      "Epoch #14: test_reward: -86.333184 ± 21.345934, best_reward: -78.470949 ± 21.796519 in #3\n"
     ]
    },
    {
     "name": "stderr",
     "output_type": "stream",
     "text": [
      "Epoch #15: 9601it [00:15, 606.59it/s, agent_0/loss=0.000, agent_1/loss=0.001, agent_2/loss=3.078, env_step=144000, len=150, n/ep=0, n/st=64, rew=-73.01]                           \n"
     ]
    },
    {
     "name": "stdout",
     "output_type": "stream",
     "text": [
      "Epoch #15: test_reward: -72.881501 ± 24.365322, best_reward: -72.881501 ± 24.365322 in #15\n"
     ]
    },
    {
     "name": "stderr",
     "output_type": "stream",
     "text": [
      "Epoch #16: 9601it [00:15, 608.79it/s, agent_0/loss=0.000, agent_1/loss=0.001, agent_2/loss=2.969, env_step=153600, len=150, n/ep=0, n/st=64, rew=-85.71]                           \n"
     ]
    },
    {
     "name": "stdout",
     "output_type": "stream",
     "text": [
      "Epoch #16: test_reward: -98.481692 ± 31.712448, best_reward: -72.881501 ± 24.365322 in #15\n"
     ]
    },
    {
     "name": "stderr",
     "output_type": "stream",
     "text": [
      "Epoch #17: 9601it [00:15, 611.80it/s, agent_0/loss=0.000, agent_1/loss=0.001, agent_2/loss=3.338, env_step=163200, len=150, n/ep=0, n/st=64, rew=-79.62]                           \n"
     ]
    },
    {
     "name": "stdout",
     "output_type": "stream",
     "text": [
      "Epoch #17: test_reward: -84.194854 ± 31.608717, best_reward: -72.881501 ± 24.365322 in #15\n"
     ]
    },
    {
     "name": "stderr",
     "output_type": "stream",
     "text": [
      "Epoch #18: 9601it [00:18, 532.99it/s, agent_0/loss=0.000, agent_1/loss=0.001, agent_2/loss=2.991, env_step=172800, len=150, n/ep=0, n/st=64, rew=-76.00]                           \n"
     ]
    },
    {
     "name": "stdout",
     "output_type": "stream",
     "text": [
      "Epoch #18: test_reward: -103.628512 ± 54.425459, best_reward: -72.881501 ± 24.365322 in #15\n"
     ]
    },
    {
     "name": "stderr",
     "output_type": "stream",
     "text": [
      "Epoch #19: 9601it [00:14, 676.94it/s, agent_0/loss=0.000, agent_1/loss=0.001, agent_2/loss=3.279, env_step=182400, len=150, n/ep=0, n/st=64, rew=-84.71]                           \n"
     ]
    },
    {
     "name": "stdout",
     "output_type": "stream",
     "text": [
      "Epoch #19: test_reward: -86.567527 ± 27.942258, best_reward: -72.881501 ± 24.365322 in #15\n"
     ]
    },
    {
     "name": "stderr",
     "output_type": "stream",
     "text": [
      "Epoch #20: 9601it [00:13, 700.64it/s, agent_0/loss=0.000, agent_1/loss=0.001, agent_2/loss=3.177, env_step=192000, len=150, n/ep=0, n/st=64, rew=-73.58]                           \n"
     ]
    },
    {
     "name": "stdout",
     "output_type": "stream",
     "text": [
      "Epoch #20: test_reward: -85.192428 ± 30.622254, best_reward: -72.881501 ± 24.365322 in #15\n"
     ]
    },
    {
     "name": "stderr",
     "output_type": "stream",
     "text": [
      "Epoch #21: 9601it [00:14, 653.00it/s, agent_0/loss=0.000, agent_1/loss=0.001, agent_2/loss=2.625, env_step=201600, len=150, n/ep=0, n/st=64, rew=-73.58]                           \n"
     ]
    },
    {
     "name": "stdout",
     "output_type": "stream",
     "text": [
      "Epoch #21: test_reward: -114.210756 ± 62.062248, best_reward: -72.881501 ± 24.365322 in #15\n"
     ]
    },
    {
     "name": "stderr",
     "output_type": "stream",
     "text": [
      "Epoch #22: 9601it [00:13, 722.93it/s, agent_0/loss=0.000, agent_1/loss=0.001, agent_2/loss=2.720, env_step=211200, len=150, n/ep=0, n/st=64, rew=-77.97]                           \n"
     ]
    },
    {
     "name": "stdout",
     "output_type": "stream",
     "text": [
      "Epoch #22: test_reward: -87.906121 ± 51.887117, best_reward: -72.881501 ± 24.365322 in #15\n"
     ]
    },
    {
     "name": "stderr",
     "output_type": "stream",
     "text": [
      "Epoch #23: 9601it [00:13, 722.72it/s, agent_0/loss=0.000, agent_1/loss=0.001, agent_2/loss=3.284, env_step=220800, len=150, n/ep=0, n/st=64, rew=-82.48]                           \n"
     ]
    },
    {
     "name": "stdout",
     "output_type": "stream",
     "text": [
      "Epoch #23: test_reward: -88.068334 ± 12.790000, best_reward: -72.881501 ± 24.365322 in #15\n"
     ]
    },
    {
     "name": "stderr",
     "output_type": "stream",
     "text": [
      "Epoch #24: 9601it [00:13, 720.16it/s, agent_0/loss=0.000, agent_1/loss=0.001, agent_2/loss=3.208, env_step=230400, len=150, n/ep=0, n/st=64, rew=-70.72]                           \n"
     ]
    },
    {
     "name": "stdout",
     "output_type": "stream",
     "text": [
      "Epoch #24: test_reward: -90.353515 ± 16.224303, best_reward: -72.881501 ± 24.365322 in #15\n"
     ]
    },
    {
     "name": "stderr",
     "output_type": "stream",
     "text": [
      "Epoch #25: 9601it [00:13, 730.32it/s, agent_0/loss=0.000, agent_1/loss=0.001, agent_2/loss=2.603, env_step=240000, len=150, n/ep=0, n/st=64, rew=-76.95]                           \n"
     ]
    },
    {
     "name": "stdout",
     "output_type": "stream",
     "text": [
      "Epoch #25: test_reward: -80.788235 ± 55.080755, best_reward: -72.881501 ± 24.365322 in #15\n"
     ]
    },
    {
     "name": "stderr",
     "output_type": "stream",
     "text": [
      "Epoch #26: 9601it [00:14, 678.12it/s, agent_0/loss=0.000, agent_1/loss=0.001, agent_2/loss=2.947, env_step=249600, len=150, n/ep=0, n/st=64, rew=-79.03]                           \n"
     ]
    },
    {
     "name": "stdout",
     "output_type": "stream",
     "text": [
      "Epoch #26: test_reward: -74.079752 ± 23.482681, best_reward: -72.881501 ± 24.365322 in #15\n"
     ]
    },
    {
     "name": "stderr",
     "output_type": "stream",
     "text": [
      "Epoch #27: 9601it [00:13, 696.02it/s, agent_0/loss=0.000, agent_1/loss=0.001, agent_2/loss=2.686, env_step=259200, len=150, n/ep=0, n/st=64, rew=-75.26]                           \n"
     ]
    },
    {
     "name": "stdout",
     "output_type": "stream",
     "text": [
      "Epoch #27: test_reward: -82.128654 ± 33.071399, best_reward: -72.881501 ± 24.365322 in #15\n"
     ]
    },
    {
     "name": "stderr",
     "output_type": "stream",
     "text": [
      "Epoch #28: 9601it [00:13, 731.72it/s, agent_0/loss=0.000, agent_1/loss=0.001, agent_2/loss=3.116, env_step=268800, len=150, n/ep=0, n/st=64, rew=-76.33]                           \n"
     ]
    },
    {
     "name": "stdout",
     "output_type": "stream",
     "text": [
      "Epoch #28: test_reward: -92.586235 ± 22.611657, best_reward: -72.881501 ± 24.365322 in #15\n"
     ]
    },
    {
     "name": "stderr",
     "output_type": "stream",
     "text": [
      "Epoch #29: 9601it [00:13, 724.46it/s, agent_0/loss=0.000, agent_1/loss=0.001, agent_2/loss=2.910, env_step=278400, len=150, n/ep=0, n/st=64, rew=-74.05]                           \n"
     ]
    },
    {
     "name": "stdout",
     "output_type": "stream",
     "text": [
      "Epoch #29: test_reward: -88.169740 ± 50.251914, best_reward: -72.881501 ± 24.365322 in #15\n"
     ]
    },
    {
     "name": "stderr",
     "output_type": "stream",
     "text": [
      "Epoch #30: 9601it [00:13, 725.17it/s, agent_0/loss=0.000, agent_1/loss=0.001, agent_2/loss=2.837, env_step=288000, len=150, n/ep=0, n/st=64, rew=-76.08]                           \n"
     ]
    },
    {
     "name": "stdout",
     "output_type": "stream",
     "text": [
      "Epoch #30: test_reward: -59.342229 ± 18.494261, best_reward: -59.342229 ± 18.494261 in #30\n"
     ]
    },
    {
     "name": "stderr",
     "output_type": "stream",
     "text": [
      "Epoch #31: 9601it [00:13, 719.31it/s, agent_0/loss=0.000, agent_1/loss=0.001, agent_2/loss=2.547, env_step=297600, len=150, n/ep=0, n/st=64, rew=-67.01]                           \n"
     ]
    },
    {
     "name": "stdout",
     "output_type": "stream",
     "text": [
      "Epoch #31: test_reward: -81.355019 ± 18.084265, best_reward: -59.342229 ± 18.494261 in #30\n"
     ]
    },
    {
     "name": "stderr",
     "output_type": "stream",
     "text": [
      "Epoch #32: 9601it [00:13, 705.28it/s, agent_0/loss=0.000, agent_1/loss=0.001, agent_2/loss=2.689, env_step=307200, len=150, n/ep=0, n/st=64, rew=-77.47]                           \n"
     ]
    },
    {
     "name": "stdout",
     "output_type": "stream",
     "text": [
      "Epoch #32: test_reward: -92.025744 ± 36.375434, best_reward: -59.342229 ± 18.494261 in #30\n"
     ]
    },
    {
     "name": "stderr",
     "output_type": "stream",
     "text": [
      "Epoch #33: 9601it [00:13, 706.82it/s, agent_0/loss=0.000, agent_1/loss=0.001, agent_2/loss=2.825, env_step=316800, len=150, n/ep=0, n/st=64, rew=-76.09]                           \n"
     ]
    },
    {
     "name": "stdout",
     "output_type": "stream",
     "text": [
      "Epoch #33: test_reward: -84.548273 ± 23.345194, best_reward: -59.342229 ± 18.494261 in #30\n"
     ]
    },
    {
     "name": "stderr",
     "output_type": "stream",
     "text": [
      "Epoch #34: 9601it [00:14, 662.04it/s, agent_0/loss=0.000, agent_1/loss=0.001, agent_2/loss=2.770, env_step=326400, len=150, n/ep=0, n/st=64, rew=-77.53]                           \n"
     ]
    },
    {
     "name": "stdout",
     "output_type": "stream",
     "text": [
      "Epoch #34: test_reward: -79.348427 ± 21.065221, best_reward: -59.342229 ± 18.494261 in #30\n"
     ]
    },
    {
     "name": "stderr",
     "output_type": "stream",
     "text": [
      "Epoch #35: 9601it [00:15, 613.48it/s, agent_0/loss=0.000, agent_1/loss=0.001, agent_2/loss=2.542, env_step=336000, len=150, n/ep=0, n/st=64, rew=-73.59]                           \n"
     ]
    },
    {
     "name": "stdout",
     "output_type": "stream",
     "text": [
      "Epoch #35: test_reward: -68.821747 ± 17.450474, best_reward: -59.342229 ± 18.494261 in #30\n"
     ]
    },
    {
     "name": "stderr",
     "output_type": "stream",
     "text": [
      "Epoch #36: 9601it [00:14, 662.13it/s, agent_0/loss=0.000, agent_1/loss=0.001, agent_2/loss=2.442, env_step=345600, len=150, n/ep=0, n/st=64, rew=-70.73]                           \n"
     ]
    },
    {
     "name": "stdout",
     "output_type": "stream",
     "text": [
      "Epoch #36: test_reward: -74.228834 ± 26.798577, best_reward: -59.342229 ± 18.494261 in #30\n"
     ]
    },
    {
     "name": "stderr",
     "output_type": "stream",
     "text": [
      "Epoch #37: 9601it [00:14, 674.77it/s, agent_0/loss=0.000, agent_1/loss=0.001, agent_2/loss=2.547, env_step=355200, len=150, n/ep=0, n/st=64, rew=-75.59]                           \n"
     ]
    },
    {
     "name": "stdout",
     "output_type": "stream",
     "text": [
      "Epoch #37: test_reward: -71.524150 ± 21.386390, best_reward: -59.342229 ± 18.494261 in #30\n"
     ]
    },
    {
     "name": "stderr",
     "output_type": "stream",
     "text": [
      "Epoch #38: 9601it [00:13, 695.28it/s, agent_0/loss=0.000, agent_1/loss=0.001, agent_2/loss=2.506, env_step=364800, len=150, n/ep=0, n/st=64, rew=-71.01]                           \n"
     ]
    },
    {
     "name": "stdout",
     "output_type": "stream",
     "text": [
      "Epoch #38: test_reward: -87.662595 ± 22.943087, best_reward: -59.342229 ± 18.494261 in #30\n"
     ]
    },
    {
     "name": "stderr",
     "output_type": "stream",
     "text": [
      "Epoch #39: 9601it [00:14, 660.34it/s, agent_0/loss=0.000, agent_1/loss=0.001, agent_2/loss=2.459, env_step=374400, len=150, n/ep=0, n/st=64, rew=-73.08]                           \n"
     ]
    },
    {
     "name": "stdout",
     "output_type": "stream",
     "text": [
      "Epoch #39: test_reward: -84.943141 ± 25.958205, best_reward: -59.342229 ± 18.494261 in #30\n"
     ]
    },
    {
     "name": "stderr",
     "output_type": "stream",
     "text": [
      "Epoch #40: 9601it [00:14, 677.00it/s, agent_0/loss=0.000, agent_1/loss=0.001, agent_2/loss=2.455, env_step=384000, len=150, n/ep=0, n/st=64, rew=-70.65]                           \n"
     ]
    },
    {
     "name": "stdout",
     "output_type": "stream",
     "text": [
      "Epoch #40: test_reward: -78.049208 ± 16.725696, best_reward: -59.342229 ± 18.494261 in #30\n"
     ]
    },
    {
     "name": "stderr",
     "output_type": "stream",
     "text": [
      "Epoch #41: 9601it [00:14, 652.99it/s, agent_0/loss=0.000, agent_1/loss=0.001, agent_2/loss=2.383, env_step=393600, len=150, n/ep=0, n/st=64, rew=-70.78]                           \n"
     ]
    },
    {
     "name": "stdout",
     "output_type": "stream",
     "text": [
      "Epoch #41: test_reward: -91.807267 ± 48.401014, best_reward: -59.342229 ± 18.494261 in #30\n"
     ]
    },
    {
     "name": "stderr",
     "output_type": "stream",
     "text": [
      "Epoch #42: 9601it [00:14, 648.47it/s, agent_0/loss=0.000, agent_1/loss=0.001, agent_2/loss=2.824, env_step=403200, len=150, n/ep=0, n/st=64, rew=-76.16]                           \n"
     ]
    },
    {
     "name": "stdout",
     "output_type": "stream",
     "text": [
      "Epoch #42: test_reward: -66.657548 ± 21.187032, best_reward: -59.342229 ± 18.494261 in #30\n"
     ]
    },
    {
     "name": "stderr",
     "output_type": "stream",
     "text": [
      "Epoch #43: 9601it [00:13, 686.99it/s, agent_0/loss=0.000, agent_1/loss=0.001, agent_2/loss=2.658, env_step=412800, len=150, n/ep=0, n/st=64, rew=-71.30]                           \n"
     ]
    },
    {
     "name": "stdout",
     "output_type": "stream",
     "text": [
      "Epoch #43: test_reward: -77.457044 ± 10.671728, best_reward: -59.342229 ± 18.494261 in #30\n"
     ]
    },
    {
     "name": "stderr",
     "output_type": "stream",
     "text": [
      "Epoch #44: 9601it [00:14, 667.23it/s, agent_0/loss=0.000, agent_1/loss=0.001, agent_2/loss=2.411, env_step=422400, len=150, n/ep=0, n/st=64, rew=-72.32]                           \n"
     ]
    },
    {
     "name": "stdout",
     "output_type": "stream",
     "text": [
      "Epoch #44: test_reward: -108.650794 ± 64.366867, best_reward: -59.342229 ± 18.494261 in #30\n"
     ]
    },
    {
     "name": "stderr",
     "output_type": "stream",
     "text": [
      "Epoch #45: 9601it [00:14, 669.69it/s, agent_0/loss=0.000, agent_1/loss=0.001, agent_2/loss=2.272, env_step=432000, len=150, n/ep=0, n/st=64, rew=-68.75]                           \n"
     ]
    },
    {
     "name": "stdout",
     "output_type": "stream",
     "text": [
      "Epoch #45: test_reward: -88.438838 ± 41.329730, best_reward: -59.342229 ± 18.494261 in #30\n"
     ]
    },
    {
     "name": "stderr",
     "output_type": "stream",
     "text": [
      "Epoch #46: 9601it [00:13, 700.24it/s, agent_0/loss=0.000, agent_1/loss=0.001, agent_2/loss=2.159, env_step=441600, len=150, n/ep=0, n/st=64, rew=-72.16]                           \n"
     ]
    },
    {
     "name": "stdout",
     "output_type": "stream",
     "text": [
      "Epoch #46: test_reward: -88.492834 ± 28.328608, best_reward: -59.342229 ± 18.494261 in #30\n"
     ]
    },
    {
     "name": "stderr",
     "output_type": "stream",
     "text": [
      "Epoch #47: 9601it [00:14, 681.70it/s, agent_0/loss=0.000, agent_1/loss=0.001, agent_2/loss=2.399, env_step=451200, len=150, n/ep=0, n/st=64, rew=-70.06]                           \n"
     ]
    },
    {
     "name": "stdout",
     "output_type": "stream",
     "text": [
      "Epoch #47: test_reward: -76.775863 ± 23.914750, best_reward: -59.342229 ± 18.494261 in #30\n"
     ]
    },
    {
     "name": "stderr",
     "output_type": "stream",
     "text": [
      "Epoch #48: 9601it [00:13, 692.34it/s, agent_0/loss=0.000, agent_1/loss=0.001, agent_2/loss=2.500, env_step=460800, len=150, n/ep=0, n/st=64, rew=-76.53]                           \n"
     ]
    },
    {
     "name": "stdout",
     "output_type": "stream",
     "text": [
      "Epoch #48: test_reward: -90.339512 ± 32.131004, best_reward: -59.342229 ± 18.494261 in #30\n"
     ]
    },
    {
     "name": "stderr",
     "output_type": "stream",
     "text": [
      "Epoch #49: 9601it [00:14, 672.73it/s, agent_0/loss=0.000, agent_1/loss=0.001, agent_2/loss=2.502, env_step=470400, len=150, n/ep=0, n/st=64, rew=-69.17]                           \n"
     ]
    },
    {
     "name": "stdout",
     "output_type": "stream",
     "text": [
      "Epoch #49: test_reward: -75.636457 ± 22.708945, best_reward: -59.342229 ± 18.494261 in #30\n"
     ]
    },
    {
     "name": "stderr",
     "output_type": "stream",
     "text": [
      "Epoch #50: 9601it [00:14, 641.87it/s, agent_0/loss=0.000, agent_1/loss=0.001, agent_2/loss=2.365, env_step=480000, len=150, n/ep=0, n/st=64, rew=-70.62]                           \n"
     ]
    },
    {
     "name": "stdout",
     "output_type": "stream",
     "text": [
      "Epoch #50: test_reward: -92.489964 ± 32.745513, best_reward: -59.342229 ± 18.494261 in #30\n"
     ]
    }
   ],
   "source": [
    "# train the agent and watch its performance\n",
    "args = get_args()\n",
    "result, agent_0, agent_1, agent_2 = train_agent(args)"
   ]
  },
  {
   "cell_type": "code",
   "execution_count": 405,
   "metadata": {},
   "outputs": [
    {
     "name": "stdout",
     "output_type": "stream",
     "text": [
      "Final reward: -50.49466531700288, length: 150.0\n"
     ]
    }
   ],
   "source": [
    "watch(args, agent_0, agent_1, agent_2)"
   ]
  },
  {
   "cell_type": "code",
   "execution_count": 406,
   "metadata": {},
   "outputs": [],
   "source": [
    "import pandas as pd\n",
    "test_reward = pd.read_csv(\"tensorboard data/run-.-tag-test_reward.csv\")\n",
    "train_reward = pd.read_csv(\"tensorboard data/run-.-tag-train_reward.csv\")\n",
    "agent0_loss = pd.read_csv(\"tensorboard data/run-.-tag-update_agent_0_loss.csv\")\n",
    "agent1_loss = pd.read_csv(\"tensorboard data/run-.-tag-update_agent_1_loss.csv\")\n",
    "agent2_loss = pd.read_csv(\"tensorboard data/run-.-tag-update_agent_2_loss.csv\")"
   ]
  },
  {
   "cell_type": "code",
   "execution_count": 429,
   "metadata": {},
   "outputs": [
    {
     "data": {
      "image/png": "[encoded data removed]",
      "text/plain": [
       "<Figure size 1200x400 with 2 Axes>"
      ]
     },
     "metadata": {},
     "output_type": "display_data"
    }
   ],
   "source": [
    "plt.figure(figsize=(12, 4))\n",
    "plt.subplot(1, 2, 1)\n",
    "plt.plot(test_reward.loc[:, \"Step\"].tolist(), test_reward.loc[:, \"Value\"].tolist())\n",
    "plt.xlabel(\"Step\")\n",
    "plt.ylabel(\"Test Reward\")\n",
    "plt.subplot(1, 2, 2)\n",
    "plt.plot(train_reward.loc[:, \"Step\"].tolist(), train_reward.loc[:, \"Value\"].tolist())\n",
    "plt.xlabel(\"Step\")\n",
    "plt.ylabel(\"Train Reward\")\n",
    "plt.show()"
   ]
  },
  {
   "cell_type": "code",
   "execution_count": 434,
   "metadata": {},
   "outputs": [
    {
     "data": {
      "image/png": "[encoded data removed]",
      "text/plain": [
       "<Figure size 2000x400 with 3 Axes>"
      ]
     },
     "metadata": {},
     "output_type": "display_data"
    }
   ],
   "source": [
    "plt.figure(figsize=(20, 4))\n",
    "plt.subplot(1, 3, 1)\n",
    "plt.plot(agent0_loss.loc[:, \"Step\"].tolist(), agent0_loss.loc[:, \"Value\"].tolist())\n",
    "plt.xlabel(\"Step\")\n",
    "plt.ylabel(\"Agent 0 Loss\")\n",
    "plt.subplot(1, 3, 2)\n",
    "plt.plot(agent1_loss.loc[:, \"Step\"].tolist(), agent1_loss.loc[:, \"Value\"].tolist())\n",
    "plt.xlabel(\"Step\")\n",
    "plt.ylabel(\"Agent 1 Loss\")\n",
    "plt.subplot(1, 3, 3)\n",
    "plt.plot(agent2_loss.loc[:, \"Step\"].tolist(), agent2_loss.loc[:, \"Value\"].tolist())\n",
    "plt.xlabel(\"Step\")\n",
    "plt.ylabel(\"Agent 2 Loss\")\n",
    "plt.show()"
   ]
  },
  {
   "cell_type": "code",
   "execution_count": 438,
   "metadata": {},
   "outputs": [],
   "source": [
    "def save_gif(\n",
    "        path,\n",
    "        args: argparse.Namespace = get_args(),\n",
    "        agent_0: Optional[BasePolicy] = None,\n",
    "        agent_1: Optional[BasePolicy] = None,\n",
    "        agent_2: Optional[BasePolicy] = None,\n",
    ") -> None:\n",
    "    # Initialize Pygame\n",
    "    pygame.init()\n",
    "\n",
    "    # Set up Pygame window and clock\n",
    "    width, height = 800, 800\n",
    "    screen = pygame.display.set_mode((width, height))\n",
    "    clock = pygame.time.Clock()\n",
    "\n",
    "    # Your Pygame application logic goes here\n",
    "    test_env = simple_spread_v3.env(N=num_agents, max_cycles=50, local_ratio=0.5, continuous_actions=False, render_mode=\"human\")\n",
    "    test_env.reset(seed=42)\n",
    "    test_env = PettingZooEnv(test_env)\n",
    "    test_env = DummyVectorEnv([lambda: test_env])\n",
    "    #result, agent_0, agent_1, agent_2 = train_agent(args)\n",
    "    policy, optim, agents = get_agents(args, agent_0=agent_0, agent_1=agent_1, agent_2=agent_2)\n",
    "    policy.eval()\n",
    "    policy.policies[agents[args.agent_id - 2]].set_eps(args.eps_test)\n",
    "    policy.policies[agents[args.agent_id - 1]].set_eps(args.eps_test)\n",
    "    policy.policies[agents[args.agent_id]].set_eps(args.eps_test)\n",
    "    collector = Collector(policy, test_env, exploration_noise=True)\n",
    "\n",
    "    # Specify the path to save the GIF\n",
    "    output_gif_path = path\n",
    "\n",
    "    # Set the number of frames to capture\n",
    "    num_frames = 50\n",
    "\n",
    "    # Create an ImageIO writer\n",
    "    imageio_writer = imageio.get_writer(output_gif_path, duration=0.5)\n",
    "\n",
    "    # Collect frames and save as a GIF\n",
    "    for _ in range(num_frames):\n",
    "        # Collect a step\n",
    "        result = collector.collect(n_step=3, render=args.render)\n",
    "\n",
    "        # Capture the Pygame window as an image\n",
    "        pygame_screen = pygame.display.get_surface()\n",
    "        pygame_surface = pygame.surfarray.array3d(pygame_screen)\n",
    "        imageio_frame = pygame.surfarray.make_surface(pygame_surface).convert_alpha()\n",
    "\n",
    "        # Append the frame to the ImageIO writer\n",
    "        imageio_writer.append_data(pygame.surfarray.array3d(imageio_frame))\n",
    "\n",
    "        # Update the Pygame display\n",
    "        pygame.display.flip()\n",
    "        \n",
    "        # Control the frame rate\n",
    "        clock.tick(10)\n",
    "        \n",
    "\n",
    "    # Close the ImageIO writer\n",
    "    imageio_writer.close()\n",
    "\n",
    "    # Quit Pygame\n",
    "    pygame.quit()"
   ]
  },
  {
   "cell_type": "code",
   "execution_count": 439,
   "metadata": {},
   "outputs": [],
   "source": [
    "save_gif(\"train.gif\", args, agent_0, agent_1, agent_2)"
   ]
  },
  {
   "cell_type": "code",
   "execution_count": null,
   "metadata": {},
   "outputs": [],
   "source": [
    "num_agents=3\n",
    "# Initialize Pygame\n",
    "pygame.init()\n",
    "\n",
    "# Set up Pygame window and clock\n",
    "width, height = 800, 800\n",
    "screen = pygame.display.set_mode((width, height))\n",
    "clock = pygame.time.Clock()\n",
    "\n",
    "# Your Pygame application logic goes here\n",
    "test_env = simple_spread_v3.env(N=num_agents, max_cycles=50, local_ratio=0.5, continuous_actions=False,render_mode=\"human\")\n",
    "test_env.reset(seed=42)\n",
    "test_env = PettingZooEnv(test_env)\n",
    "random_policy = RandomPolicy(test_env.observation_space, test_env.action_space)\n",
    "policy = MultiAgentPolicyManager([random_policy, random_policy, random_policy], test_env)\n",
    "test_env = DummyVectorEnv([lambda: test_env])\n",
    "collector = Collector(policy, test_env)\n",
    "\n",
    "# Specify the path to save the GIF\n",
    "output_gif_path = \"random.gif\"\n",
    "\n",
    "# Set the number of frames to capture\n",
    "num_frames = 50\n",
    "\n",
    "# Create an ImageIO writer\n",
    "imageio_writer = imageio.get_writer(output_gif_path, duration=0.5)\n",
    "\n",
    "# Collect frames and save as a GIF\n",
    "for _ in range(num_frames):\n",
    "    # Collect a step\n",
    "    result = collector.collect(n_step=3, render=0.1)\n",
    "\n",
    "    # Capture the Pygame window as an image\n",
    "    pygame_screen = pygame.display.get_surface()\n",
    "    pygame_surface = pygame.surfarray.array3d(pygame_screen)\n",
    "    imageio_frame = pygame.surfarray.make_surface(pygame_surface).convert_alpha()\n",
    "\n",
    "    # Append the frame to the ImageIO writer\n",
    "    imageio_writer.append_data(pygame.surfarray.array3d(imageio_frame))\n",
    "\n",
    "    # Update the Pygame display\n",
    "    pygame.display.flip()\n",
    "\n",
    "    # Control the frame rate\n",
    "    clock.tick(10)\n",
    "\n",
    "# Close the ImageIO writer\n",
    "imageio_writer.close()\n",
    "\n",
    "# Quit Pygame\n",
    "pygame.quit()"
   ]
  }
 ],
 "metadata": {
  "kernelspec": {
   "display_name": "RI_venv",
   "language": "python",
   "name": "python3"
  },
  "language_info": {
   "codemirror_mode": {
    "name": "ipython",
    "version": 3
   },
   "file_extension": ".py",
   "mimetype": "text/x-python",
   "name": "python",
   "nbconvert_exporter": "python",
   "pygments_lexer": "ipython3",
   "version": "3.10.11"
  }
 },
 "nbformat": 4,
 "nbformat_minor": 2
}
